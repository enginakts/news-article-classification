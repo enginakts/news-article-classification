{
 "cells": [
  {
   "cell_type": "markdown",
   "metadata": {},
   "source": [
    "### Veri Setini İndir"
   ]
  },
  {
   "cell_type": "code",
   "execution_count": null,
   "metadata": {},
   "outputs": [],
   "source": [
    "from datasets import load_dataset\n",
    "\n",
    "# Veri setini indir\n",
    "dataset = load_dataset(\"yavuzkomecoglu/interpress_news_category_tr_lite\")\n",
    "\n",
    "# Veri setini TSV formatında kaydet\n",
    "import pandas as pd\n",
    "\n",
    "# Eğitim setini al\n",
    "train_df = pd.DataFrame(dataset['train'])\n",
    "# Test setini al\n",
    "test_df = pd.DataFrame(dataset['test'])\n",
    "\n",
    "# TSV formatında kaydet\n",
    "train_df.to_csv('datasets/dataset1.tsv', sep='\\t', index=False)\n",
    "test_df.to_csv('datasets/dataset2.tsv', sep='\\t', index=False)"
   ]
  },
  {
   "cell_type": "markdown",
   "metadata": {},
   "source": [
    "### Veri Seti Label Kategorileri\n",
    "\n",
    "<ul>\n",
    "    <li>0 - Edebiyat</li>\n",
    "    <li>1 - Ekonomi</li>\n",
    "    <li>2 - Siyaset</li>\n",
    "    <li>3 - Eğitim</li>\n",
    "    <li>4 - Güvenlik</li>\n",
    "    <li>5 - Spor</li>\n",
    "    <li>6 - Teknoloji</li>\n",
    "    <li>7 - Yaşam Tarzı</li>\n",
    "    <li>8 - Outdoor/Spor Ekipmanları</li>\n",
    "    <li>9 - Diplomasi</li>\n",
    "</ul>\n"
   ]
  },
  {
   "cell_type": "code",
   "execution_count": 1,
   "metadata": {},
   "outputs": [],
   "source": [
    "# Veri manipülasyonu ve analizi\n",
    "import pandas as pd\n",
    "import numpy as np\n",
    "\n",
    "# Makine öğrenmesi\n",
    "from sklearn.model_selection import train_test_split, cross_val_score\n",
    "from sklearn.feature_extraction.text import TfidfVectorizer\n",
    "from sklearn.naive_bayes import MultinomialNB\n",
    "from sklearn.svm import LinearSVC\n",
    "from sklearn.metrics import (\n",
    "    accuracy_score,\n",
    "    classification_report,\n",
    "    confusion_matrix\n",
    ")\n",
    "\n",
    "# Görselleştirme\n",
    "import matplotlib.pyplot as plt\n",
    "import seaborn as sns\n",
    "from wordcloud import WordCloud\n",
    "\n",
    "# Metin işleme\n",
    "import re\n",
    "import string\n",
    "import nltk\n",
    "from nltk.corpus import stopwords\n",
    "from nltk.tokenize import word_tokenize\n",
    "from nltk.stem.snowball import SnowballStemmer\n",
    "from TurkishStemmer import TurkishStemmer\n",
    "from itertools import product\n",
    "\n",
    "# Dosya işlemleri\n",
    "import pickle\n",
    "import os\n",
    "\n"
   ]
  },
  {
   "cell_type": "code",
   "execution_count": 2,
   "metadata": {},
   "outputs": [],
   "source": [
    "# -*- coding: utf-8 -*-"
   ]
  },
  {
   "cell_type": "code",
   "execution_count": 9,
   "metadata": {},
   "outputs": [
    {
     "name": "stderr",
     "output_type": "stream",
     "text": [
      "[nltk_data] Downloading package punkt to C:\\Users\\engin/nltk_data...\n",
      "[nltk_data]   Package punkt is already up-to-date!\n",
      "[nltk_data] Downloading package stopwords to\n",
      "[nltk_data]     C:\\Users\\engin/nltk_data...\n",
      "[nltk_data]   Package stopwords is already up-to-date!\n"
     ]
    },
    {
     "data": {
      "text/plain": [
       "True"
      ]
     },
     "execution_count": 9,
     "metadata": {},
     "output_type": "execute_result"
    }
   ],
   "source": [
    "\n",
    "# NLTK gerekli dosyaları indirme\n",
    "nltk.download('punkt')\n",
    "nltk.download('stopwords')"
   ]
  },
  {
   "cell_type": "code",
   "execution_count": 2,
   "metadata": {},
   "outputs": [
    {
     "name": "stdout",
     "output_type": "stream",
     "text": [
      "Veri seti yükleniyor...\n"
     ]
    }
   ],
   "source": [
    "# Veri setini yükle\n",
    "print(\"Veri seti yükleniyor...\")\n",
    "df = pd.read_csv('datasets/dataset1.tsv', sep='\\t')\n"
   ]
  },
  {
   "cell_type": "code",
   "execution_count": 5,
   "metadata": {},
   "outputs": [
    {
     "data": {
      "text/html": [
       "<div>\n",
       "<style scoped>\n",
       "    .dataframe tbody tr th:only-of-type {\n",
       "        vertical-align: middle;\n",
       "    }\n",
       "\n",
       "    .dataframe tbody tr th {\n",
       "        vertical-align: top;\n",
       "    }\n",
       "\n",
       "    .dataframe thead th {\n",
       "        text-align: right;\n",
       "    }\n",
       "</style>\n",
       "<table border=\"1\" class=\"dataframe\">\n",
       "  <thead>\n",
       "    <tr style=\"text-align: right;\">\n",
       "      <th></th>\n",
       "      <th>news</th>\n",
       "      <th>label</th>\n",
       "    </tr>\n",
       "  </thead>\n",
       "  <tbody>\n",
       "    <tr>\n",
       "      <th>0</th>\n",
       "      <td>50 yıldır yükselen enerji: Aygaz TÜRK HALKINI ...</td>\n",
       "      <td>1</td>\n",
       "    </tr>\n",
       "    <tr>\n",
       "      <th>1</th>\n",
       "      <td>Onur Akyıl Bir insan kadar mutsuzBir insan kad...</td>\n",
       "      <td>0</td>\n",
       "    </tr>\n",
       "    <tr>\n",
       "      <th>2</th>\n",
       "      <td>. yolculuk GÜNEYLİ SARIŞIN: REESE WITHERSPOON ...</td>\n",
       "      <td>0</td>\n",
       "    </tr>\n",
       "    <tr>\n",
       "      <th>3</th>\n",
       "      <td>Doğru tercih yapan hiçbir aday açıkta kalmayac...</td>\n",
       "      <td>3</td>\n",
       "    </tr>\n",
       "    <tr>\n",
       "      <th>4</th>\n",
       "      <td>De Jong için sıraya girdiler   SERİE A ekipler...</td>\n",
       "      <td>5</td>\n",
       "    </tr>\n",
       "  </tbody>\n",
       "</table>\n",
       "</div>"
      ],
      "text/plain": [
       "                                                news  label\n",
       "0  50 yıldır yükselen enerji: Aygaz TÜRK HALKINI ...      1\n",
       "1  Onur Akyıl Bir insan kadar mutsuzBir insan kad...      0\n",
       "2  . yolculuk GÜNEYLİ SARIŞIN: REESE WITHERSPOON ...      0\n",
       "3  Doğru tercih yapan hiçbir aday açıkta kalmayac...      3\n",
       "4  De Jong için sıraya girdiler   SERİE A ekipler...      5"
      ]
     },
     "execution_count": 5,
     "metadata": {},
     "output_type": "execute_result"
    }
   ],
   "source": [
    "df.head()"
   ]
  },
  {
   "cell_type": "code",
   "execution_count": 6,
   "metadata": {},
   "outputs": [
    {
     "name": "stdout",
     "output_type": "stream",
     "text": [
      "(54721, 2)\n"
     ]
    }
   ],
   "source": [
    "print(df.shape)         # (satır, sütun)"
   ]
  },
  {
   "cell_type": "code",
   "execution_count": 7,
   "metadata": {},
   "outputs": [
    {
     "data": {
      "text/plain": [
       "news     0\n",
       "label    0\n",
       "dtype: int64"
      ]
     },
     "execution_count": 7,
     "metadata": {},
     "output_type": "execute_result"
    }
   ],
   "source": [
    "df.isnull().sum()"
   ]
  },
  {
   "cell_type": "code",
   "execution_count": 8,
   "metadata": {},
   "outputs": [
    {
     "name": "stdout",
     "output_type": "stream",
     "text": [
      "False\n"
     ]
    }
   ],
   "source": [
    "print(df.isnull().any().any())  # True → varsa, False → yoksa"
   ]
  },
  {
   "cell_type": "code",
   "execution_count": 9,
   "metadata": {},
   "outputs": [
    {
     "name": "stdout",
     "output_type": "stream",
     "text": [
      "<class 'pandas.core.frame.DataFrame'>\n",
      "RangeIndex: 54721 entries, 0 to 54720\n",
      "Data columns (total 2 columns):\n",
      " #   Column  Non-Null Count  Dtype \n",
      "---  ------  --------------  ----- \n",
      " 0   news    54721 non-null  object\n",
      " 1   label   54721 non-null  int64 \n",
      "dtypes: int64(1), object(1)\n",
      "memory usage: 855.1+ KB\n"
     ]
    }
   ],
   "source": [
    "df.info()  # Veri setinin bilgileri"
   ]
  },
  {
   "cell_type": "code",
   "execution_count": 10,
   "metadata": {},
   "outputs": [
    {
     "name": "stdout",
     "output_type": "stream",
     "text": [
      "              label\n",
      "count  54721.000000\n",
      "mean       3.019170\n",
      "std        2.953381\n",
      "min        0.000000\n",
      "25%        0.000000\n",
      "50%        2.000000\n",
      "75%        6.000000\n",
      "max        9.000000\n"
     ]
    }
   ],
   "source": [
    "print(df.describe())"
   ]
  },
  {
   "cell_type": "code",
   "execution_count": 11,
   "metadata": {},
   "outputs": [
    {
     "name": "stdout",
     "output_type": "stream",
     "text": [
      "[1 0 3 5 6 7 8 4 9 2]\n"
     ]
    }
   ],
   "source": [
    "print(df[\"label\"].unique())"
   ]
  },
  {
   "cell_type": "markdown",
   "metadata": {},
   "source": [
    " %% [markdown]\n",
    " # Metin Ön İşleme\n",
    " \n",
    " Bu script'te metin sınıflandırma için gerekli ön işleme adımlarını gerçekleştireceğiz:\n",
    " 1. Metin temizleme\n",
    " 2. Küçük harfe çevirme\n",
    " 3. Stop words kaldırma\n",
    " 4. Tokenization\n",
    " 5. Stemming\n",
    " %% [markdown]\n",
    " ## Gerekli Kütüphanelerin Yüklenmesi\n"
   ]
  },
  {
   "cell_type": "markdown",
   "metadata": {},
   "source": [
    "%% [markdown]\n",
    "## Metin Temizleme\n",
    "\n",
    "Bu bölümde:\n",
    "- Metni küçük harfe çeviriyoruz\n",
    "- Noktalama işaretlerini kaldırıyoruz\n",
    "- Özel karakterleri temizliyoruz\n",
    "- Fazla boşlukları düzenliyoruz\n"
   ]
  },
  {
   "cell_type": "code",
   "execution_count": 11,
   "metadata": {},
   "outputs": [
    {
     "name": "stdout",
     "output_type": "stream",
     "text": [
      "Orijinal metin:\n",
      "50 yıldır yükselen enerji: Aygaz TÜRK HALKINI TÜPGAZLA TANIŞTIRAN AYGAZ, 50. KURULUŞ YILINI KUTLUYOR. KOÇ HOLDİNG ŞEREF BAŞKANI VE AYGAZ YÖNETÎM KURULU BAŞKANI RAHMİ M. KOÇ,  BUGÜN AVRUPA NIN BEŞİNCİ BÜYÜK LPG ŞİRKETİ OLAN AYGAZ, ÜRETİMDEN DAĞITIMA UZANAN ENERJİ ZİNCİRİNİN TAMAMINA HÂKİM OLAN YEGÂNE ŞİRKETTİR. LİDER OLMAK ZORDUR. AMA LİDER KALABİLMEK ÇOK DAHA ZORDUR  DİYE KONUŞTU tc  AYOA3 YATIRIMCI VİZYONU Kurulduğu 1961 yılından bu yana gazdan petrole, elektrikten madenciliğe kadar enerjinin pek çok alanında faaliyet göstererek, milyonlarca tüketicinin güvenini kazanan Koç Grubu şirketlerinden Aygaz, 50. kuruluş yıldönümünü de enerji sektöründe Türkiye nin lider kuruluşlarından biri olarak kutluyor. Türkiye de konutlarda, havagazı ve ispirto ocaklarının kullanıldığı yıllarda Türk halkını tüpgazla tanıştıran Aygaz, yarım asırdır gösterdiği başarılarla Avrupa nın beşinci büyük LPG şirketine dönüştü. Koç Holding Şeref Başkanı ve Aygaz Yönetim Kurulu Başkanı Rahmi M. Koç, 50. kuruluş yıldönümü nedeniyle yaptığı açıklamada,  Bugün Avrupa nın beşinci büyük LPG şirketi olan Aygaz, üretimden dağıtıma uzanan enerji zincirinin tamamına hakim olan yegane k v-mıfl   şirkettir. Lider olmak zordur. Ama lider kalabilmek çok daha zordur. Aygaz bu zoru başardığı gibi, kendine has yöntemleriyle değişime hızla uyum sağladı ve yerli-yabancı yatırımcıların hep ilgi odağı oldu  dedi.  AYGAZ HER ALANDA, HER İŞTE LİDER OLDU   Rahmi M. Koç, Aygaz ın Koç Holding Enerji Grubu nun gözbebeği olduğunu belirterek,  Kurucumuz Rahmetli Vehbi Koç un da kalbinde çok özel bir yeri olan Aygaz A.Ş. nin 50. yaşını kutlamak, bizim için sonsuz bir mutluluk vesilesidir  dedi. Koç, kurulduğu ilk yıldan itibaren Türk halkının güvenini kazanan Aygaz ın, Türkiye nin en küçük köylerinden en büyük kentlerindeki her evde yerini bulduğunu, çok kısa sürede gazın jenerik adı haline gelmeyi başardığını söyledi. Aygaz ın yarım asırlık süre boyunca yatırım yaptığı her alanda, giriştiği her yeni işte liderliğe oturduğunu hatırlatan Koç. kurduğu ortaklıklarla da Türkiye nin enerji sektöründe söz sahibi bir marka haline geldiğini belirtti. 50 YILLIK GEÇMİŞ SADECE SERÜVENİN BAŞLANGICI 50. kuruluş yılı nedeniyle hazırlanan Aygaz ın enerji sektöKoç Holding Şeref Başkanı ve Aygaz Yönetim Kurulu Başkanı Rahmi M. Koç ründeki yarım asırlık serüvenini anlatan  50 Yılın Yükselen Enerjisi Aygaz  başlıklı kitaba da değinen Rahmi M. Koç, konuşmasını,  Aygaz ın 50 yıllık serüveninin başarılı sonucu, başta bayiler, çalışanlar ve hissedarlar olmak üzere tüm paydaşların eseridir. Bu kitap, bu serüvenin hikayesini anlatmak ve enerjisini herkese yansıtabilmek için hazırlanmıştır. Satırları arasında saklı olan fikir, lider olmayı sürdürebilmek, ikinci 50 yıla aynı dinamik yapıyla devam etmek için gerekli enerjinin, Aygaz ın bizzat kendisi olduğudur. Türk sanayisinin ve enerji sektörünün yarım yüzyılı geride bırakmış öncü isimlerinden Aygaz ın, ülkesi için daha çok yapacakları var. 50 yıllık geçmişi, sadece yeni serüveninin başlangıcıdır  sözleriyle tamamladı.? 30 TURİZM DÜNYASI\n"
     ]
    }
   ],
   "source": [
    "sample_text = df['news'].iloc[0]\n",
    "print(\"Orijinal metin:\")\n",
    "print(sample_text)"
   ]
  },
  {
   "cell_type": "code",
   "execution_count": 12,
   "metadata": {},
   "outputs": [
    {
     "name": "stdout",
     "output_type": "stream",
     "text": [
      "\n",
      "Küçük harfe çevrilmiş metin:\n",
      "50 yıldır yükselen enerji: aygaz türk halkini tüpgazla taniştiran aygaz, 50. kuruluş yilini kutluyor. koç holdi̇ng şeref başkani ve aygaz yönetîm kurulu başkani rahmi̇ m. koç,  bugün avrupa nin beşi̇nci̇ büyük lpg şi̇rketi̇ olan aygaz, üreti̇mden dağitima uzanan enerji̇ zi̇nci̇ri̇ni̇n tamamina hâki̇m olan yegâne şi̇rketti̇r. li̇der olmak zordur. ama li̇der kalabi̇lmek çok daha zordur  di̇ye konuştu tc  ayoa3 yatirimci vi̇zyonu kurulduğu 1961 yılından bu yana gazdan petrole, elektrikten madenciliğe kadar enerjinin pek çok alanında faaliyet göstererek, milyonlarca tüketicinin güvenini kazanan koç grubu şirketlerinden aygaz, 50. kuruluş yıldönümünü de enerji sektöründe türkiye nin lider kuruluşlarından biri olarak kutluyor. türkiye de konutlarda, havagazı ve ispirto ocaklarının kullanıldığı yıllarda türk halkını tüpgazla tanıştıran aygaz, yarım asırdır gösterdiği başarılarla avrupa nın beşinci büyük lpg şirketine dönüştü. koç holding şeref başkanı ve aygaz yönetim kurulu başkanı rahmi m. koç, 50. kuruluş yıldönümü nedeniyle yaptığı açıklamada,  bugün avrupa nın beşinci büyük lpg şirketi olan aygaz, üretimden dağıtıma uzanan enerji zincirinin tamamına hakim olan yegane k v-mıfl   şirkettir. lider olmak zordur. ama lider kalabilmek çok daha zordur. aygaz bu zoru başardığı gibi, kendine has yöntemleriyle değişime hızla uyum sağladı ve yerli-yabancı yatırımcıların hep ilgi odağı oldu  dedi.  aygaz her alanda, her i̇şte li̇der oldu   rahmi m. koç, aygaz ın koç holding enerji grubu nun gözbebeği olduğunu belirterek,  kurucumuz rahmetli vehbi koç un da kalbinde çok özel bir yeri olan aygaz a.ş. nin 50. yaşını kutlamak, bizim için sonsuz bir mutluluk vesilesidir  dedi. koç, kurulduğu ilk yıldan itibaren türk halkının güvenini kazanan aygaz ın, türkiye nin en küçük köylerinden en büyük kentlerindeki her evde yerini bulduğunu, çok kısa sürede gazın jenerik adı haline gelmeyi başardığını söyledi. aygaz ın yarım asırlık süre boyunca yatırım yaptığı her alanda, giriştiği her yeni işte liderliğe oturduğunu hatırlatan koç. kurduğu ortaklıklarla da türkiye nin enerji sektöründe söz sahibi bir marka haline geldiğini belirtti. 50 yillik geçmi̇ş sadece serüveni̇n başlangici 50. kuruluş yılı nedeniyle hazırlanan aygaz ın enerji sektökoç holding şeref başkanı ve aygaz yönetim kurulu başkanı rahmi m. koç ründeki yarım asırlık serüvenini anlatan  50 yılın yükselen enerjisi aygaz  başlıklı kitaba da değinen rahmi m. koç, konuşmasını,  aygaz ın 50 yıllık serüveninin başarılı sonucu, başta bayiler, çalışanlar ve hissedarlar olmak üzere tüm paydaşların eseridir. bu kitap, bu serüvenin hikayesini anlatmak ve enerjisini herkese yansıtabilmek için hazırlanmıştır. satırları arasında saklı olan fikir, lider olmayı sürdürebilmek, ikinci 50 yıla aynı dinamik yapıyla devam etmek için gerekli enerjinin, aygaz ın bizzat kendisi olduğudur. türk sanayisinin ve enerji sektörünün yarım yüzyılı geride bırakmış öncü isimlerinden aygaz ın, ülkesi için daha çok yapacakları var. 50 yıllık geçmişi, sadece yeni serüveninin başlangıcıdır  sözleriyle tamamladı.? 30 turi̇zm dünyasi\n"
     ]
    }
   ],
   "source": [
    "# Küçük harfe çevirme\n",
    "cleaned_text = sample_text.lower()\n",
    "print(\"\\nKüçük harfe çevrilmiş metin:\")\n",
    "print(cleaned_text)"
   ]
  },
  {
   "cell_type": "code",
   "execution_count": 14,
   "metadata": {},
   "outputs": [
    {
     "name": "stdout",
     "output_type": "stream",
     "text": [
      "\n",
      "Noktalama işaretleri kaldırılmış metin:\n",
      "50 yıldır yükselen enerji  aygaz türk halkini tüpgazla taniştiran aygaz  50  kuruluş yilini kutluyor  koç holdi̇ng şeref başkani ve aygaz yönetîm kurulu başkani rahmi̇ m  koç   bugün avrupa nin beşi̇nci̇ büyük lpg şi̇rketi̇ olan aygaz  üreti̇mden dağitima uzanan enerji̇ zi̇nci̇ri̇ni̇n tamamina hâki̇m olan yegâne şi̇rketti̇r  li̇der olmak zordur  ama li̇der kalabi̇lmek çok daha zordur  di̇ye konuştu tc  ayoa3 yatirimci vi̇zyonu kurulduğu 1961 yılından bu yana gazdan petrole  elektrikten madenciliğe kadar enerjinin pek çok alanında faaliyet göstererek  milyonlarca tüketicinin güvenini kazanan koç grubu şirketlerinden aygaz  50  kuruluş yıldönümünü de enerji sektöründe türkiye nin lider kuruluşlarından biri olarak kutluyor  türkiye de konutlarda  havagazı ve ispirto ocaklarının kullanıldığı yıllarda türk halkını tüpgazla tanıştıran aygaz  yarım asırdır gösterdiği başarılarla avrupa nın beşinci büyük lpg şirketine dönüştü  koç holding şeref başkanı ve aygaz yönetim kurulu başkanı rahmi m  koç  50  kuruluş yıldönümü nedeniyle yaptığı açıklamada   bugün avrupa nın beşinci büyük lpg şirketi olan aygaz  üretimden dağıtıma uzanan enerji zincirinin tamamına hakim olan yegane k v mıfl   şirkettir  lider olmak zordur  ama lider kalabilmek çok daha zordur  aygaz bu zoru başardığı gibi  kendine has yöntemleriyle değişime hızla uyum sağladı ve yerli yabancı yatırımcıların hep ilgi odağı oldu  dedi   aygaz her alanda  her i̇şte li̇der oldu   rahmi m  koç  aygaz ın koç holding enerji grubu nun gözbebeği olduğunu belirterek   kurucumuz rahmetli vehbi koç un da kalbinde çok özel bir yeri olan aygaz a ş  nin 50  yaşını kutlamak  bizim için sonsuz bir mutluluk vesilesidir  dedi  koç  kurulduğu ilk yıldan itibaren türk halkının güvenini kazanan aygaz ın  türkiye nin en küçük köylerinden en büyük kentlerindeki her evde yerini bulduğunu  çok kısa sürede gazın jenerik adı haline gelmeyi başardığını söyledi  aygaz ın yarım asırlık süre boyunca yatırım yaptığı her alanda  giriştiği her yeni işte liderliğe oturduğunu hatırlatan koç  kurduğu ortaklıklarla da türkiye nin enerji sektöründe söz sahibi bir marka haline geldiğini belirtti  50 yillik geçmi̇ş sadece serüveni̇n başlangici 50  kuruluş yılı nedeniyle hazırlanan aygaz ın enerji sektökoç holding şeref başkanı ve aygaz yönetim kurulu başkanı rahmi m  koç ründeki yarım asırlık serüvenini anlatan  50 yılın yükselen enerjisi aygaz  başlıklı kitaba da değinen rahmi m  koç  konuşmasını   aygaz ın 50 yıllık serüveninin başarılı sonucu  başta bayiler  çalışanlar ve hissedarlar olmak üzere tüm paydaşların eseridir  bu kitap  bu serüvenin hikayesini anlatmak ve enerjisini herkese yansıtabilmek için hazırlanmıştır  satırları arasında saklı olan fikir  lider olmayı sürdürebilmek  ikinci 50 yıla aynı dinamik yapıyla devam etmek için gerekli enerjinin  aygaz ın bizzat kendisi olduğudur  türk sanayisinin ve enerji sektörünün yarım yüzyılı geride bırakmış öncü isimlerinden aygaz ın  ülkesi için daha çok yapacakları var  50 yıllık geçmişi  sadece yeni serüveninin başlangıcıdır  sözleriyle tamamladı   30 turi̇zm dünyasi\n"
     ]
    }
   ],
   "source": [
    "# Noktalama işaretlerini kaldırma\n",
    "import string\n",
    "cleaned_text = re.sub(f'[{string.punctuation}]', ' ', cleaned_text)\n",
    "print(\"\\nNoktalama işaretleri kaldırılmış metin:\")\n",
    "print(cleaned_text)"
   ]
  },
  {
   "cell_type": "code",
   "execution_count": 15,
   "metadata": {},
   "outputs": [
    {
     "name": "stdout",
     "output_type": "stream",
     "text": [
      "\n",
      "Özel karakterler kaldırılmış metin:\n",
      " yıldır yükselen enerji  aygaz türk halkini tüpgazla taniştiran aygaz    kuruluş yilini kutluyor  koç holding şeref başkani ve aygaz yönetm kurulu başkani rahmi m  koç   bugün avrupa nin beşinci büyük lpg şirketi olan aygaz  üretimden dağitima uzanan enerji zincirinin tamamina hkim olan yegne şirkettir  lider olmak zordur  ama lider kalabilmek çok daha zordur  diye konuştu tc  ayoa yatirimci vizyonu kurulduğu  yılından bu yana gazdan petrole  elektrikten madenciliğe kadar enerjinin pek çok alanında faaliyet göstererek  milyonlarca tüketicinin güvenini kazanan koç grubu şirketlerinden aygaz    kuruluş yıldönümünü de enerji sektöründe türkiye nin lider kuruluşlarından biri olarak kutluyor  türkiye de konutlarda  havagazı ve ispirto ocaklarının kullanıldığı yıllarda türk halkını tüpgazla tanıştıran aygaz  yarım asırdır gösterdiği başarılarla avrupa nın beşinci büyük lpg şirketine dönüştü  koç holding şeref başkanı ve aygaz yönetim kurulu başkanı rahmi m  koç    kuruluş yıldönümü nedeniyle yaptığı açıklamada   bugün avrupa nın beşinci büyük lpg şirketi olan aygaz  üretimden dağıtıma uzanan enerji zincirinin tamamına hakim olan yegane k v mıfl   şirkettir  lider olmak zordur  ama lider kalabilmek çok daha zordur  aygaz bu zoru başardığı gibi  kendine has yöntemleriyle değişime hızla uyum sağladı ve yerli yabancı yatırımcıların hep ilgi odağı oldu  dedi   aygaz her alanda  her işte lider oldu   rahmi m  koç  aygaz ın koç holding enerji grubu nun gözbebeği olduğunu belirterek   kurucumuz rahmetli vehbi koç un da kalbinde çok özel bir yeri olan aygaz a ş  nin   yaşını kutlamak  bizim için sonsuz bir mutluluk vesilesidir  dedi  koç  kurulduğu ilk yıldan itibaren türk halkının güvenini kazanan aygaz ın  türkiye nin en küçük köylerinden en büyük kentlerindeki her evde yerini bulduğunu  çok kısa sürede gazın jenerik adı haline gelmeyi başardığını söyledi  aygaz ın yarım asırlık süre boyunca yatırım yaptığı her alanda  giriştiği her yeni işte liderliğe oturduğunu hatırlatan koç  kurduğu ortaklıklarla da türkiye nin enerji sektöründe söz sahibi bir marka haline geldiğini belirtti   yillik geçmiş sadece serüvenin başlangici   kuruluş yılı nedeniyle hazırlanan aygaz ın enerji sektökoç holding şeref başkanı ve aygaz yönetim kurulu başkanı rahmi m  koç ründeki yarım asırlık serüvenini anlatan   yılın yükselen enerjisi aygaz  başlıklı kitaba da değinen rahmi m  koç  konuşmasını   aygaz ın  yıllık serüveninin başarılı sonucu  başta bayiler  çalışanlar ve hissedarlar olmak üzere tüm paydaşların eseridir  bu kitap  bu serüvenin hikayesini anlatmak ve enerjisini herkese yansıtabilmek için hazırlanmıştır  satırları arasında saklı olan fikir  lider olmayı sürdürebilmek  ikinci  yıla aynı dinamik yapıyla devam etmek için gerekli enerjinin  aygaz ın bizzat kendisi olduğudur  türk sanayisinin ve enerji sektörünün yarım yüzyılı geride bırakmış öncü isimlerinden aygaz ın  ülkesi için daha çok yapacakları var   yıllık geçmişi  sadece yeni serüveninin başlangıcıdır  sözleriyle tamamladı    turizm dünyasi\n"
     ]
    }
   ],
   "source": [
    "# Özel karakterleri kaldırma\n",
    "cleaned_text = re.sub(r'[^a-zçğıöşü\\s]', '', cleaned_text)\n",
    "print(\"\\nÖzel karakterler kaldırılmış metin:\")\n",
    "print(cleaned_text)"
   ]
  },
  {
   "cell_type": "code",
   "execution_count": 16,
   "metadata": {},
   "outputs": [
    {
     "name": "stdout",
     "output_type": "stream",
     "text": [
      "\n",
      "Fazla boşluklar temizlenmiş metin:\n",
      "yıldır yükselen enerji aygaz türk halkini tüpgazla taniştiran aygaz kuruluş yilini kutluyor koç holding şeref başkani ve aygaz yönetm kurulu başkani rahmi m koç bugün avrupa nin beşinci büyük lpg şirketi olan aygaz üretimden dağitima uzanan enerji zincirinin tamamina hkim olan yegne şirkettir lider olmak zordur ama lider kalabilmek çok daha zordur diye konuştu tc ayoa yatirimci vizyonu kurulduğu yılından bu yana gazdan petrole elektrikten madenciliğe kadar enerjinin pek çok alanında faaliyet göstererek milyonlarca tüketicinin güvenini kazanan koç grubu şirketlerinden aygaz kuruluş yıldönümünü de enerji sektöründe türkiye nin lider kuruluşlarından biri olarak kutluyor türkiye de konutlarda havagazı ve ispirto ocaklarının kullanıldığı yıllarda türk halkını tüpgazla tanıştıran aygaz yarım asırdır gösterdiği başarılarla avrupa nın beşinci büyük lpg şirketine dönüştü koç holding şeref başkanı ve aygaz yönetim kurulu başkanı rahmi m koç kuruluş yıldönümü nedeniyle yaptığı açıklamada bugün avrupa nın beşinci büyük lpg şirketi olan aygaz üretimden dağıtıma uzanan enerji zincirinin tamamına hakim olan yegane k v mıfl şirkettir lider olmak zordur ama lider kalabilmek çok daha zordur aygaz bu zoru başardığı gibi kendine has yöntemleriyle değişime hızla uyum sağladı ve yerli yabancı yatırımcıların hep ilgi odağı oldu dedi aygaz her alanda her işte lider oldu rahmi m koç aygaz ın koç holding enerji grubu nun gözbebeği olduğunu belirterek kurucumuz rahmetli vehbi koç un da kalbinde çok özel bir yeri olan aygaz a ş nin yaşını kutlamak bizim için sonsuz bir mutluluk vesilesidir dedi koç kurulduğu ilk yıldan itibaren türk halkının güvenini kazanan aygaz ın türkiye nin en küçük köylerinden en büyük kentlerindeki her evde yerini bulduğunu çok kısa sürede gazın jenerik adı haline gelmeyi başardığını söyledi aygaz ın yarım asırlık süre boyunca yatırım yaptığı her alanda giriştiği her yeni işte liderliğe oturduğunu hatırlatan koç kurduğu ortaklıklarla da türkiye nin enerji sektöründe söz sahibi bir marka haline geldiğini belirtti yillik geçmiş sadece serüvenin başlangici kuruluş yılı nedeniyle hazırlanan aygaz ın enerji sektökoç holding şeref başkanı ve aygaz yönetim kurulu başkanı rahmi m koç ründeki yarım asırlık serüvenini anlatan yılın yükselen enerjisi aygaz başlıklı kitaba da değinen rahmi m koç konuşmasını aygaz ın yıllık serüveninin başarılı sonucu başta bayiler çalışanlar ve hissedarlar olmak üzere tüm paydaşların eseridir bu kitap bu serüvenin hikayesini anlatmak ve enerjisini herkese yansıtabilmek için hazırlanmıştır satırları arasında saklı olan fikir lider olmayı sürdürebilmek ikinci yıla aynı dinamik yapıyla devam etmek için gerekli enerjinin aygaz ın bizzat kendisi olduğudur türk sanayisinin ve enerji sektörünün yarım yüzyılı geride bırakmış öncü isimlerinden aygaz ın ülkesi için daha çok yapacakları var yıllık geçmişi sadece yeni serüveninin başlangıcıdır sözleriyle tamamladı turizm dünyasi\n"
     ]
    }
   ],
   "source": [
    "# Fazla boşlukları temizleme\n",
    "cleaned_text = re.sub(r'\\s+', ' ', cleaned_text).strip()\n",
    "print(\"\\nFazla boşluklar temizlenmiş metin:\")\n",
    "print(cleaned_text)"
   ]
  },
  {
   "cell_type": "code",
   "execution_count": 17,
   "metadata": {},
   "outputs": [],
   "source": [
    "# Türkçe stop words listesi\n",
    "stop_words = set(stopwords.words('turkish'))\n"
   ]
  },
  {
   "cell_type": "code",
   "execution_count": 18,
   "metadata": {},
   "outputs": [
    {
     "name": "stdout",
     "output_type": "stream",
     "text": [
      "Kelimelere ayrılmış metin:\n",
      "['yıldır', 'yükselen', 'enerji', 'aygaz', 'türk', 'halkini', 'tüpgazla', 'taniştiran', 'aygaz', 'kuruluş', 'yilini', 'kutluyor', 'koç', 'holding', 'şeref', 'başkani', 've', 'aygaz', 'yönetm', 'kurulu', 'başkani', 'rahmi', 'm', 'koç', 'bugün', 'avrupa', 'nin', 'beşinci', 'büyük', 'lpg', 'şirketi', 'olan', 'aygaz', 'üretimden', 'dağitima', 'uzanan', 'enerji', 'zincirinin', 'tamamina', 'hkim', 'olan', 'yegne', 'şirkettir', 'lider', 'olmak', 'zordur', 'ama', 'lider', 'kalabilmek', 'çok', 'daha', 'zordur', 'diye', 'konuştu', 'tc', 'ayoa', 'yatirimci', 'vizyonu', 'kurulduğu', 'yılından', 'bu', 'yana', 'gazdan', 'petrole', 'elektrikten', 'madenciliğe', 'kadar', 'enerjinin', 'pek', 'çok', 'alanında', 'faaliyet', 'göstererek', 'milyonlarca', 'tüketicinin', 'güvenini', 'kazanan', 'koç', 'grubu', 'şirketlerinden', 'aygaz', 'kuruluş', 'yıldönümünü', 'de', 'enerji', 'sektöründe', 'türkiye', 'nin', 'lider', 'kuruluşlarından', 'biri', 'olarak', 'kutluyor', 'türkiye', 'de', 'konutlarda', 'havagazı', 've', 'ispirto', 'ocaklarının', 'kullanıldığı', 'yıllarda', 'türk', 'halkını', 'tüpgazla', 'tanıştıran', 'aygaz', 'yarım', 'asırdır', 'gösterdiği', 'başarılarla', 'avrupa', 'nın', 'beşinci', 'büyük', 'lpg', 'şirketine', 'dönüştü', 'koç', 'holding', 'şeref', 'başkanı', 've', 'aygaz', 'yönetim', 'kurulu', 'başkanı', 'rahmi', 'm', 'koç', 'kuruluş', 'yıldönümü', 'nedeniyle', 'yaptığı', 'açıklamada', 'bugün', 'avrupa', 'nın', 'beşinci', 'büyük', 'lpg', 'şirketi', 'olan', 'aygaz', 'üretimden', 'dağıtıma', 'uzanan', 'enerji', 'zincirinin', 'tamamına', 'hakim', 'olan', 'yegane', 'k', 'v', 'mıfl', 'şirkettir', 'lider', 'olmak', 'zordur', 'ama', 'lider', 'kalabilmek', 'çok', 'daha', 'zordur', 'aygaz', 'bu', 'zoru', 'başardığı', 'gibi', 'kendine', 'has', 'yöntemleriyle', 'değişime', 'hızla', 'uyum', 'sağladı', 've', 'yerli', 'yabancı', 'yatırımcıların', 'hep', 'ilgi', 'odağı', 'oldu', 'dedi', 'aygaz', 'her', 'alanda', 'her', 'işte', 'lider', 'oldu', 'rahmi', 'm', 'koç', 'aygaz', 'ın', 'koç', 'holding', 'enerji', 'grubu', 'nun', 'gözbebeği', 'olduğunu', 'belirterek', 'kurucumuz', 'rahmetli', 'vehbi', 'koç', 'un', 'da', 'kalbinde', 'çok', 'özel', 'bir', 'yeri', 'olan', 'aygaz', 'a', 'ş', 'nin', 'yaşını', 'kutlamak', 'bizim', 'için', 'sonsuz', 'bir', 'mutluluk', 'vesilesidir', 'dedi', 'koç', 'kurulduğu', 'ilk', 'yıldan', 'itibaren', 'türk', 'halkının', 'güvenini', 'kazanan', 'aygaz', 'ın', 'türkiye', 'nin', 'en', 'küçük', 'köylerinden', 'en', 'büyük', 'kentlerindeki', 'her', 'evde', 'yerini', 'bulduğunu', 'çok', 'kısa', 'sürede', 'gazın', 'jenerik', 'adı', 'haline', 'gelmeyi', 'başardığını', 'söyledi', 'aygaz', 'ın', 'yarım', 'asırlık', 'süre', 'boyunca', 'yatırım', 'yaptığı', 'her', 'alanda', 'giriştiği', 'her', 'yeni', 'işte', 'liderliğe', 'oturduğunu', 'hatırlatan', 'koç', 'kurduğu', 'ortaklıklarla', 'da', 'türkiye', 'nin', 'enerji', 'sektöründe', 'söz', 'sahibi', 'bir', 'marka', 'haline', 'geldiğini', 'belirtti', 'yillik', 'geçmiş', 'sadece', 'serüvenin', 'başlangici', 'kuruluş', 'yılı', 'nedeniyle', 'hazırlanan', 'aygaz', 'ın', 'enerji', 'sektökoç', 'holding', 'şeref', 'başkanı', 've', 'aygaz', 'yönetim', 'kurulu', 'başkanı', 'rahmi', 'm', 'koç', 'ründeki', 'yarım', 'asırlık', 'serüvenini', 'anlatan', 'yılın', 'yükselen', 'enerjisi', 'aygaz', 'başlıklı', 'kitaba', 'da', 'değinen', 'rahmi', 'm', 'koç', 'konuşmasını', 'aygaz', 'ın', 'yıllık', 'serüveninin', 'başarılı', 'sonucu', 'başta', 'bayiler', 'çalışanlar', 've', 'hissedarlar', 'olmak', 'üzere', 'tüm', 'paydaşların', 'eseridir', 'bu', 'kitap', 'bu', 'serüvenin', 'hikayesini', 'anlatmak', 've', 'enerjisini', 'herkese', 'yansıtabilmek', 'için', 'hazırlanmıştır', 'satırları', 'arasında', 'saklı', 'olan', 'fikir', 'lider', 'olmayı', 'sürdürebilmek', 'ikinci', 'yıla', 'aynı', 'dinamik', 'yapıyla', 'devam', 'etmek', 'için', 'gerekli', 'enerjinin', 'aygaz', 'ın', 'bizzat', 'kendisi', 'olduğudur', 'türk', 'sanayisinin', 've', 'enerji', 'sektörünün', 'yarım', 'yüzyılı', 'geride', 'bırakmış', 'öncü', 'isimlerinden', 'aygaz', 'ın', 'ülkesi', 'için', 'daha', 'çok', 'yapacakları', 'var', 'yıllık', 'geçmişi', 'sadece', 'yeni', 'serüveninin', 'başlangıcıdır', 'sözleriyle', 'tamamladı', 'turizm', 'dünyasi']\n"
     ]
    }
   ],
   "source": [
    "# Metni kelimelere ayırma\n",
    "word_tokens = word_tokenize(cleaned_text)\n",
    "print(\"Kelimelere ayrılmış metin:\")\n",
    "print(word_tokens)"
   ]
  },
  {
   "cell_type": "markdown",
   "metadata": {},
   "source": [
    "\n",
    "%% [markdown]\n",
    "# Stemming\n",
    "# Bu bölümde:\n",
    " - Snowball stemmer kullanarak Türkçe kelimeleri köklerine indirgiyoruz\n",
    "- Örneğin: \"geliyor\", \"gelmiş\", \"gelecek\" -> \"gel\"\n"
   ]
  },
  {
   "cell_type": "code",
   "execution_count": 19,
   "metadata": {},
   "outputs": [
    {
     "name": "stdout",
     "output_type": "stream",
     "text": [
      "\n",
      "Stop words kaldırılmış metin:\n",
      "['yıldır', 'yükselen', 'enerji', 'aygaz', 'türk', 'halkini', 'tüpgazla', 'taniştiran', 'aygaz', 'kuruluş', 'yilini', 'kutluyor', 'koç', 'holding', 'şeref', 'başkani', 'aygaz', 'yönetm', 'kurulu', 'başkani', 'rahmi', 'm', 'koç', 'bugün', 'avrupa', 'nin', 'beşinci', 'büyük', 'lpg', 'şirketi', 'olan', 'aygaz', 'üretimden', 'dağitima', 'uzanan', 'enerji', 'zincirinin', 'tamamina', 'hkim', 'olan', 'yegne', 'şirkettir', 'lider', 'olmak', 'zordur', 'lider', 'kalabilmek', 'zordur', 'konuştu', 'tc', 'ayoa', 'yatirimci', 'vizyonu', 'kurulduğu', 'yılından', 'yana', 'gazdan', 'petrole', 'elektrikten', 'madenciliğe', 'kadar', 'enerjinin', 'pek', 'alanında', 'faaliyet', 'göstererek', 'milyonlarca', 'tüketicinin', 'güvenini', 'kazanan', 'koç', 'grubu', 'şirketlerinden', 'aygaz', 'kuruluş', 'yıldönümünü', 'enerji', 'sektöründe', 'türkiye', 'nin', 'lider', 'kuruluşlarından', 'olarak', 'kutluyor', 'türkiye', 'konutlarda', 'havagazı', 'ispirto', 'ocaklarının', 'kullanıldığı', 'yıllarda', 'türk', 'halkını', 'tüpgazla', 'tanıştıran', 'aygaz', 'yarım', 'asırdır', 'gösterdiği', 'başarılarla', 'avrupa', 'nın', 'beşinci', 'büyük', 'lpg', 'şirketine', 'dönüştü', 'koç', 'holding', 'şeref', 'başkanı', 'aygaz', 'yönetim', 'kurulu', 'başkanı', 'rahmi', 'm', 'koç', 'kuruluş', 'yıldönümü', 'nedeniyle', 'yaptığı', 'açıklamada', 'bugün', 'avrupa', 'nın', 'beşinci', 'büyük', 'lpg', 'şirketi', 'olan', 'aygaz', 'üretimden', 'dağıtıma', 'uzanan', 'enerji', 'zincirinin', 'tamamına', 'hakim', 'olan', 'yegane', 'k', 'v', 'mıfl', 'şirkettir', 'lider', 'olmak', 'zordur', 'lider', 'kalabilmek', 'zordur', 'aygaz', 'zoru', 'başardığı', 'kendine', 'has', 'yöntemleriyle', 'değişime', 'hızla', 'uyum', 'sağladı', 'yerli', 'yabancı', 'yatırımcıların', 'ilgi', 'odağı', 'oldu', 'dedi', 'aygaz', 'alanda', 'işte', 'lider', 'oldu', 'rahmi', 'm', 'koç', 'aygaz', 'ın', 'koç', 'holding', 'enerji', 'grubu', 'nun', 'gözbebeği', 'olduğunu', 'belirterek', 'kurucumuz', 'rahmetli', 'vehbi', 'koç', 'un', 'kalbinde', 'özel', 'bir', 'yeri', 'olan', 'aygaz', 'a', 'ş', 'nin', 'yaşını', 'kutlamak', 'bizim', 'sonsuz', 'bir', 'mutluluk', 'vesilesidir', 'dedi', 'koç', 'kurulduğu', 'ilk', 'yıldan', 'itibaren', 'türk', 'halkının', 'güvenini', 'kazanan', 'aygaz', 'ın', 'türkiye', 'nin', 'küçük', 'köylerinden', 'büyük', 'kentlerindeki', 'evde', 'yerini', 'bulduğunu', 'kısa', 'sürede', 'gazın', 'jenerik', 'adı', 'haline', 'gelmeyi', 'başardığını', 'söyledi', 'aygaz', 'ın', 'yarım', 'asırlık', 'süre', 'boyunca', 'yatırım', 'yaptığı', 'alanda', 'giriştiği', 'yeni', 'işte', 'liderliğe', 'oturduğunu', 'hatırlatan', 'koç', 'kurduğu', 'ortaklıklarla', 'türkiye', 'nin', 'enerji', 'sektöründe', 'söz', 'sahibi', 'bir', 'marka', 'haline', 'geldiğini', 'belirtti', 'yillik', 'geçmiş', 'sadece', 'serüvenin', 'başlangici', 'kuruluş', 'yılı', 'nedeniyle', 'hazırlanan', 'aygaz', 'ın', 'enerji', 'sektökoç', 'holding', 'şeref', 'başkanı', 'aygaz', 'yönetim', 'kurulu', 'başkanı', 'rahmi', 'm', 'koç', 'ründeki', 'yarım', 'asırlık', 'serüvenini', 'anlatan', 'yılın', 'yükselen', 'enerjisi', 'aygaz', 'başlıklı', 'kitaba', 'değinen', 'rahmi', 'm', 'koç', 'konuşmasını', 'aygaz', 'ın', 'yıllık', 'serüveninin', 'başarılı', 'sonucu', 'başta', 'bayiler', 'çalışanlar', 'hissedarlar', 'olmak', 'üzere', 'paydaşların', 'eseridir', 'kitap', 'serüvenin', 'hikayesini', 'anlatmak', 'enerjisini', 'herkese', 'yansıtabilmek', 'hazırlanmıştır', 'satırları', 'arasında', 'saklı', 'olan', 'fikir', 'lider', 'olmayı', 'sürdürebilmek', 'ikinci', 'yıla', 'aynı', 'dinamik', 'yapıyla', 'devam', 'etmek', 'gerekli', 'enerjinin', 'aygaz', 'ın', 'bizzat', 'kendisi', 'olduğudur', 'türk', 'sanayisinin', 'enerji', 'sektörünün', 'yarım', 'yüzyılı', 'geride', 'bırakmış', 'öncü', 'isimlerinden', 'aygaz', 'ın', 'ülkesi', 'yapacakları', 'var', 'yıllık', 'geçmişi', 'sadece', 'yeni', 'serüveninin', 'başlangıcıdır', 'sözleriyle', 'tamamladı', 'turizm', 'dünyasi']\n"
     ]
    }
   ],
   "source": [
    "# Stop words'leri kaldırma\n",
    "filtered_text = [word for word in word_tokens if word not in stop_words]\n",
    "print(\"\\nStop words kaldırılmış metin:\")\n",
    "print(filtered_text)"
   ]
  },
  {
   "cell_type": "code",
   "execution_count": 20,
   "metadata": {},
   "outputs": [
    {
     "name": "stdout",
     "output_type": "stream",
     "text": [
      "\n",
      "Birleştirilmiş metin:\n",
      "yıldır yükselen enerji aygaz türk halkini tüpgazla taniştiran aygaz kuruluş yilini kutluyor koç holding şeref başkani aygaz yönetm kurulu başkani rahmi m koç bugün avrupa nin beşinci büyük lpg şirketi olan aygaz üretimden dağitima uzanan enerji zincirinin tamamina hkim olan yegne şirkettir lider olmak zordur lider kalabilmek zordur konuştu tc ayoa yatirimci vizyonu kurulduğu yılından yana gazdan petrole elektrikten madenciliğe kadar enerjinin pek alanında faaliyet göstererek milyonlarca tüketicinin güvenini kazanan koç grubu şirketlerinden aygaz kuruluş yıldönümünü enerji sektöründe türkiye nin lider kuruluşlarından olarak kutluyor türkiye konutlarda havagazı ispirto ocaklarının kullanıldığı yıllarda türk halkını tüpgazla tanıştıran aygaz yarım asırdır gösterdiği başarılarla avrupa nın beşinci büyük lpg şirketine dönüştü koç holding şeref başkanı aygaz yönetim kurulu başkanı rahmi m koç kuruluş yıldönümü nedeniyle yaptığı açıklamada bugün avrupa nın beşinci büyük lpg şirketi olan aygaz üretimden dağıtıma uzanan enerji zincirinin tamamına hakim olan yegane k v mıfl şirkettir lider olmak zordur lider kalabilmek zordur aygaz zoru başardığı kendine has yöntemleriyle değişime hızla uyum sağladı yerli yabancı yatırımcıların ilgi odağı oldu dedi aygaz alanda işte lider oldu rahmi m koç aygaz ın koç holding enerji grubu nun gözbebeği olduğunu belirterek kurucumuz rahmetli vehbi koç un kalbinde özel bir yeri olan aygaz a ş nin yaşını kutlamak bizim sonsuz bir mutluluk vesilesidir dedi koç kurulduğu ilk yıldan itibaren türk halkının güvenini kazanan aygaz ın türkiye nin küçük köylerinden büyük kentlerindeki evde yerini bulduğunu kısa sürede gazın jenerik adı haline gelmeyi başardığını söyledi aygaz ın yarım asırlık süre boyunca yatırım yaptığı alanda giriştiği yeni işte liderliğe oturduğunu hatırlatan koç kurduğu ortaklıklarla türkiye nin enerji sektöründe söz sahibi bir marka haline geldiğini belirtti yillik geçmiş sadece serüvenin başlangici kuruluş yılı nedeniyle hazırlanan aygaz ın enerji sektökoç holding şeref başkanı aygaz yönetim kurulu başkanı rahmi m koç ründeki yarım asırlık serüvenini anlatan yılın yükselen enerjisi aygaz başlıklı kitaba değinen rahmi m koç konuşmasını aygaz ın yıllık serüveninin başarılı sonucu başta bayiler çalışanlar hissedarlar olmak üzere paydaşların eseridir kitap serüvenin hikayesini anlatmak enerjisini herkese yansıtabilmek hazırlanmıştır satırları arasında saklı olan fikir lider olmayı sürdürebilmek ikinci yıla aynı dinamik yapıyla devam etmek gerekli enerjinin aygaz ın bizzat kendisi olduğudur türk sanayisinin enerji sektörünün yarım yüzyılı geride bırakmış öncü isimlerinden aygaz ın ülkesi yapacakları var yıllık geçmişi sadece yeni serüveninin başlangıcıdır sözleriyle tamamladı turizm dünyasi\n"
     ]
    }
   ],
   "source": [
    "# Kelimeleri birleştirme\n",
    "filtered_text = ' '.join(filtered_text)\n",
    "print(\"\\nBirleştirilmiş metin:\")\n",
    "print(filtered_text)"
   ]
  },
  {
   "cell_type": "markdown",
   "metadata": {},
   "source": [
    " %% [markdown]\n",
    " ## Stemming\n",
    " \n",
    " Bu bölümde:\n",
    " - Snowball stemmer kullanarak Türkçe kelimeleri köklerine indirgiyoruz\n",
    " - Örneğin: \"geliyor\", \"gelmiş\", \"gelecek\" -> \"gel\"\n"
   ]
  },
  {
   "cell_type": "code",
   "execution_count": 21,
   "metadata": {},
   "outputs": [],
   "source": [
    "\n",
    "stemmer = TurkishStemmer()"
   ]
  },
  {
   "cell_type": "code",
   "execution_count": 22,
   "metadata": {},
   "outputs": [
    {
     "name": "stdout",
     "output_type": "stream",
     "text": [
      "['yıldır', 'yükselen', 'enerji', 'aygaz', 'türk', 'halkini', 'tüpgazla', 'taniştiran', 'aygaz', 'kuruluş', 'yilini', 'kutluyor', 'koç', 'holding', 'şeref', 'başkani', 'aygaz', 'yönetm', 'kurulu', 'başkani', 'rahmi', 'm', 'koç', 'bugün', 'avrupa', 'nin', 'beşinci', 'büyük', 'lpg', 'şirketi', 'olan', 'aygaz', 'üretimden', 'dağitima', 'uzanan', 'enerji', 'zincirinin', 'tamamina', 'hkim', 'olan', 'yegne', 'şirkettir', 'lider', 'olmak', 'zordur', 'lider', 'kalabilmek', 'zordur', 'konuştu', 'tc', 'ayoa', 'yatirimci', 'vizyonu', 'kurulduğu', 'yılından', 'yana', 'gazdan', 'petrole', 'elektrikten', 'madenciliğe', 'kadar', 'enerjinin', 'pek', 'alanında', 'faaliyet', 'göstererek', 'milyonlarca', 'tüketicinin', 'güvenini', 'kazanan', 'koç', 'grubu', 'şirketlerinden', 'aygaz', 'kuruluş', 'yıldönümünü', 'enerji', 'sektöründe', 'türkiye', 'nin', 'lider', 'kuruluşlarından', 'olarak', 'kutluyor', 'türkiye', 'konutlarda', 'havagazı', 'ispirto', 'ocaklarının', 'kullanıldığı', 'yıllarda', 'türk', 'halkını', 'tüpgazla', 'tanıştıran', 'aygaz', 'yarım', 'asırdır', 'gösterdiği', 'başarılarla', 'avrupa', 'nın', 'beşinci', 'büyük', 'lpg', 'şirketine', 'dönüştü', 'koç', 'holding', 'şeref', 'başkanı', 'aygaz', 'yönetim', 'kurulu', 'başkanı', 'rahmi', 'm', 'koç', 'kuruluş', 'yıldönümü', 'nedeniyle', 'yaptığı', 'açıklamada', 'bugün', 'avrupa', 'nın', 'beşinci', 'büyük', 'lpg', 'şirketi', 'olan', 'aygaz', 'üretimden', 'dağıtıma', 'uzanan', 'enerji', 'zincirinin', 'tamamına', 'hakim', 'olan', 'yegane', 'k', 'v', 'mıfl', 'şirkettir', 'lider', 'olmak', 'zordur', 'lider', 'kalabilmek', 'zordur', 'aygaz', 'zoru', 'başardığı', 'kendine', 'has', 'yöntemleriyle', 'değişime', 'hızla', 'uyum', 'sağladı', 'yerli', 'yabancı', 'yatırımcıların', 'ilgi', 'odağı', 'oldu', 'dedi', 'aygaz', 'alanda', 'işte', 'lider', 'oldu', 'rahmi', 'm', 'koç', 'aygaz', 'ın', 'koç', 'holding', 'enerji', 'grubu', 'nun', 'gözbebeği', 'olduğunu', 'belirterek', 'kurucumuz', 'rahmetli', 'vehbi', 'koç', 'un', 'kalbinde', 'özel', 'bir', 'yeri', 'olan', 'aygaz', 'a', 'ş', 'nin', 'yaşını', 'kutlamak', 'bizim', 'sonsuz', 'bir', 'mutluluk', 'vesilesidir', 'dedi', 'koç', 'kurulduğu', 'ilk', 'yıldan', 'itibaren', 'türk', 'halkının', 'güvenini', 'kazanan', 'aygaz', 'ın', 'türkiye', 'nin', 'küçük', 'köylerinden', 'büyük', 'kentlerindeki', 'evde', 'yerini', 'bulduğunu', 'kısa', 'sürede', 'gazın', 'jenerik', 'adı', 'haline', 'gelmeyi', 'başardığını', 'söyledi', 'aygaz', 'ın', 'yarım', 'asırlık', 'süre', 'boyunca', 'yatırım', 'yaptığı', 'alanda', 'giriştiği', 'yeni', 'işte', 'liderliğe', 'oturduğunu', 'hatırlatan', 'koç', 'kurduğu', 'ortaklıklarla', 'türkiye', 'nin', 'enerji', 'sektöründe', 'söz', 'sahibi', 'bir', 'marka', 'haline', 'geldiğini', 'belirtti', 'yillik', 'geçmiş', 'sadece', 'serüvenin', 'başlangici', 'kuruluş', 'yılı', 'nedeniyle', 'hazırlanan', 'aygaz', 'ın', 'enerji', 'sektökoç', 'holding', 'şeref', 'başkanı', 'aygaz', 'yönetim', 'kurulu', 'başkanı', 'rahmi', 'm', 'koç', 'ründeki', 'yarım', 'asırlık', 'serüvenini', 'anlatan', 'yılın', 'yükselen', 'enerjisi', 'aygaz', 'başlıklı', 'kitaba', 'değinen', 'rahmi', 'm', 'koç', 'konuşmasını', 'aygaz', 'ın', 'yıllık', 'serüveninin', 'başarılı', 'sonucu', 'başta', 'bayiler', 'çalışanlar', 'hissedarlar', 'olmak', 'üzere', 'paydaşların', 'eseridir', 'kitap', 'serüvenin', 'hikayesini', 'anlatmak', 'enerjisini', 'herkese', 'yansıtabilmek', 'hazırlanmıştır', 'satırları', 'arasında', 'saklı', 'olan', 'fikir', 'lider', 'olmayı', 'sürdürebilmek', 'ikinci', 'yıla', 'aynı', 'dinamik', 'yapıyla', 'devam', 'etmek', 'gerekli', 'enerjinin', 'aygaz', 'ın', 'bizzat', 'kendisi', 'olduğudur', 'türk', 'sanayisinin', 'enerji', 'sektörünün', 'yarım', 'yüzyılı', 'geride', 'bırakmış', 'öncü', 'isimlerinden', 'aygaz', 'ın', 'ülkesi', 'yapacakları', 'var', 'yıllık', 'geçmişi', 'sadece', 'yeni', 'serüveninin', 'başlangıcıdır', 'sözleriyle', 'tamamladı', 'turizm', 'dünyasi']\n"
     ]
    }
   ],
   "source": [
    "# Metni kelimelere ayırma\n",
    "word_tokens = word_tokenize(filtered_text)\n",
    "\n",
    "print(word_tokens)"
   ]
  },
  {
   "cell_type": "code",
   "execution_count": 23,
   "metadata": {},
   "outputs": [
    {
     "name": "stdout",
     "output_type": "stream",
     "text": [
      "Köklerine indirgenmiş kelimeler:\n",
      "['yıl', 'yükselen', 'enerj', 'aygaz', 'türk', 'halkin', 'tüpgaz', 'taniştiran', 'aygaz', 'kuruluş', 'yil', 'kutluyor', 'koç', 'holding', 'şeref', 'başkani', 'aygaz', 'yönet', 'kuru', 'başkani', 'rahmi', 'm', 'koç', 'bugü', 'avrup', 'nin', 'beşinci', 'büyük', 'lpg', 'şirk', 'olan', 'aygaz', 'üret', 'dağitima', 'uzanan', 'enerj', 'zincir', 'tamamina', 'hkim', 'olan', 'yegn', 'şirket', 'lider', 'olmak', 'zor', 'lider', 'kalabilmek', 'zor', 'konuş', 'tc', 'ayo', 'yatirimç', 'vizyon', 'kurulduk', 'yıl', 'yan', 'gaz', 'petrole', 'elektrik', 'madencilik', 'kadar', 'enerj', 'pek', 'alan', 'faaliyet', 'göstererek', 'milyon', 'tüketiç', 'güven', 'kazanan', 'koç', 'grup', 'şirket', 'aygaz', 'kuruluş', 'yıldönüm', 'enerj', 'sektör', 'türki', 'nin', 'lider', 'kuruluş', 'olarak', 'kutluyor', 'türki', 'konut', 'havagaz', 'ispirto', 'ocak', 'kullanıldık', 'yıl', 'türk', 'halk', 'tüpgaz', 'tanıştıran', 'aygaz', 'yar', 'asır', 'gösterdik', 'başarı', 'avrup', 'nın', 'beşinci', 'büyük', 'lpg', 'şirket', 'dönüş', 'koç', 'holding', 'şeref', 'başkan', 'aygaz', 'yöne', 'kuru', 'başkan', 'rahmi', 'm', 'koç', 'kuruluş', 'yıldön', 'neden', 'yaptık', 'açıklama', 'bugü', 'avrup', 'nın', 'beşinci', 'büyük', 'lpg', 'şirk', 'olan', 'aygaz', 'üret', 'dağıt', 'uzanan', 'enerj', 'zincir', 'tamam', 'hakim', 'olan', 'yegane', 'k', 'v', 'mıfl', 'şirket', 'lider', 'olmak', 'zor', 'lider', 'kalabilmek', 'zor', 'aygaz', 'zor', 'başardık', 'kent', 'has', 'yöntem', 'değiş', 'hızl', 'uy', 'sağl', 'yerl', 'yabanç', 'yatırımcı', 'ilg', 'odak', 'olt', 'det', 'aygaz', 'alan', 'iş', 'lider', 'olt', 'rahmi', 'm', 'koç', 'aygaz', 'ın', 'koç', 'holding', 'enerj', 'grup', 'nun', 'gözbebek', 'olduk', 'belirterek', 'kuruç', 'rahmet', 'vehp', 'koç', 'un', 'kalbin', 'özel', 'bir', 'yer', 'olan', 'aygaz', 'a', 'ş', 'nin', 'yaş', 'kutlamak', 'biz', 'sons', 'bir', 'mutluluk', 'vesile', 'det', 'koç', 'kurulduk', 'ilk', 'yıl', 'itibaren', 'türk', 'halk', 'güven', 'kazanan', 'aygaz', 'ın', 'türki', 'nin', 'küçük', 'köy', 'büyük', 'kent', 'ev', 'yer', 'bulduk', 'kıs', 'süre', 'gaz', 'jenerik', 'ad', 'halin', 'gelme', 'başardık', 'söyl', 'aygaz', 'ın', 'yar', 'asırlık', 'sür', 'boyu', 'yatır', 'yaptık', 'alan', 'giriştik', 'yen', 'iş', 'liderlik', 'oturduk', 'hatırla', 'koç', 'kurduk', 'ortaklık', 'türki', 'nin', 'enerj', 'sektör', 'söz', 'sahip', 'bir', 'marka', 'halin', 'geldik', 'belirt', 'yillik', 'geç', 'sade', 'serüve', 'başlangiç', 'kuruluş', 'yıl', 'neden', 'hazırlanan', 'aygaz', 'ın', 'enerj', 'sektökoç', 'holding', 'şeref', 'başkan', 'aygaz', 'yöne', 'kuru', 'başkan', 'rahmi', 'm', 'koç', 'rün', 'yar', 'asırlık', 'serüven', 'anla', 'yıl', 'yükselen', 'enerji', 'aygaz', 'başlık', 'kitap', 'değinen', 'rahmi', 'm', 'koç', 'konuşma', 'aygaz', 'ın', 'yıllık', 'serüven', 'başarı', 'sonuç', 'baş', 'bayi', 'çalışan', 'hissedar', 'olmak', 'üzer', 'paydaş', 'eser', 'kitap', 'serüve', 'hikaye', 'anlatmak', 'enerji', 'herk', 'yansıtabilmek', 'hazırlan', 'satır', 'ara', 'sakl', 'olan', 'fikir', 'lider', 'olma', 'sürdürebilmek', 'ikinç', 'yıl', 'aynı', 'dinamik', 'yapı', 'devam', 'etmek', 'gerek', 'enerj', 'aygaz', 'ın', 'bizzat', 'kendi', 'olduk', 'türk', 'sanayi', 'enerj', 'sektör', 'yar', 'yüzyı', 'geri', 'bırak', 'önç', 'isim', 'aygaz', 'ın', 'ülke', 'yapacak', 'var', 'yıllık', 'geçmiş', 'sade', 'yen', 'serüven', 'başlangıç', 'söz', 'tama', 'turizm', 'dünyasi']\n"
     ]
    }
   ],
   "source": [
    "# Her kelimeyi köküne indirgeme\n",
    "stemmed_text = [stemmer.stem(word) for word in word_tokens]\n",
    "print(\"Köklerine indirgenmiş kelimeler:\")\n",
    "print(stemmed_text)"
   ]
  },
  {
   "cell_type": "code",
   "execution_count": 24,
   "metadata": {},
   "outputs": [
    {
     "name": "stdout",
     "output_type": "stream",
     "text": [
      "\n",
      "Birleştirilmiş metin:\n",
      "yıl yükselen enerj aygaz türk halkin tüpgaz taniştiran aygaz kuruluş yil kutluyor koç holding şeref başkani aygaz yönet kuru başkani rahmi m koç bugü avrup nin beşinci büyük lpg şirk olan aygaz üret dağitima uzanan enerj zincir tamamina hkim olan yegn şirket lider olmak zor lider kalabilmek zor konuş tc ayo yatirimç vizyon kurulduk yıl yan gaz petrole elektrik madencilik kadar enerj pek alan faaliyet göstererek milyon tüketiç güven kazanan koç grup şirket aygaz kuruluş yıldönüm enerj sektör türki nin lider kuruluş olarak kutluyor türki konut havagaz ispirto ocak kullanıldık yıl türk halk tüpgaz tanıştıran aygaz yar asır gösterdik başarı avrup nın beşinci büyük lpg şirket dönüş koç holding şeref başkan aygaz yöne kuru başkan rahmi m koç kuruluş yıldön neden yaptık açıklama bugü avrup nın beşinci büyük lpg şirk olan aygaz üret dağıt uzanan enerj zincir tamam hakim olan yegane k v mıfl şirket lider olmak zor lider kalabilmek zor aygaz zor başardık kent has yöntem değiş hızl uy sağl yerl yabanç yatırımcı ilg odak olt det aygaz alan iş lider olt rahmi m koç aygaz ın koç holding enerj grup nun gözbebek olduk belirterek kuruç rahmet vehp koç un kalbin özel bir yer olan aygaz a ş nin yaş kutlamak biz sons bir mutluluk vesile det koç kurulduk ilk yıl itibaren türk halk güven kazanan aygaz ın türki nin küçük köy büyük kent ev yer bulduk kıs süre gaz jenerik ad halin gelme başardık söyl aygaz ın yar asırlık sür boyu yatır yaptık alan giriştik yen iş liderlik oturduk hatırla koç kurduk ortaklık türki nin enerj sektör söz sahip bir marka halin geldik belirt yillik geç sade serüve başlangiç kuruluş yıl neden hazırlanan aygaz ın enerj sektökoç holding şeref başkan aygaz yöne kuru başkan rahmi m koç rün yar asırlık serüven anla yıl yükselen enerji aygaz başlık kitap değinen rahmi m koç konuşma aygaz ın yıllık serüven başarı sonuç baş bayi çalışan hissedar olmak üzer paydaş eser kitap serüve hikaye anlatmak enerji herk yansıtabilmek hazırlan satır ara sakl olan fikir lider olma sürdürebilmek ikinç yıl aynı dinamik yapı devam etmek gerek enerj aygaz ın bizzat kendi olduk türk sanayi enerj sektör yar yüzyı geri bırak önç isim aygaz ın ülke yapacak var yıllık geçmiş sade yen serüven başlangıç söz tama turizm dünyasi\n"
     ]
    }
   ],
   "source": [
    "# Kelimeleri birleştirme\n",
    "stemmed_text = ' '.join(stemmed_text)\n",
    "print(\"\\nBirleştirilmiş metin:\")\n",
    "print(stemmed_text)"
   ]
  },
  {
   "cell_type": "markdown",
   "metadata": {},
   "source": [
    " %% [markdown]\n",
    " ## Tüm Veri Setine Ön İşleme Uygulama\n"
   ]
  },
  {
   "cell_type": "code",
   "execution_count": null,
   "metadata": {},
   "outputs": [],
   "source": [
    "print(\"Tüm veri setine ön işleme uygulanıyor...\")\n",
    "\n",
    "# Yeni bir DataFrame oluşturma\n",
    "df2 = pd.DataFrame()\n",
    "df2['news'] = df['news']  \n",
    "df2['label'] = df['label']  \n",
    "df2['processed_news'] = ''  \n",
    "\n",
    "\n",
    "\n",
    "\n",
    "# Her metin için ön işleme uygulama\n",
    "for i in range(len(df2)):\n",
    "    # Metin temizleme\n",
    "    text = df2['news'].iloc[i].lower()\n",
    "    text = re.sub(f'[{string.punctuation}]', ' ', text)\n",
    "    text = re.sub(r'[^a-zçğıöşü\\s]', '', text)\n",
    "    text = re.sub(r'[0-9]', '', text) # Rakamları kaldır\n",
    "    text = re.sub(r'\\s+', ' ', text).strip()\n",
    "    \n",
    "    # Stop words kaldırma\n",
    "    word_tokens = word_tokenize(text)\n",
    "    filtered_text = [word for word in word_tokens if word not in stop_words]\n",
    "    text = ' '.join(filtered_text)\n",
    "    \n",
    "    # Tek harfleri kaldır\n",
    "    word_tokens = word_tokenize(text)\n",
    "    filtered_text = [word for word in word_tokens if len(word) > 1]\n",
    "    text = ' '.join(filtered_text)\n",
    "    \n",
    "    # Stemming\n",
    "    word_tokens = word_tokenize(text)\n",
    "    stemmed_text = [stemmer.stem(word) for word in word_tokens]\n",
    "    text = ' '.join(stemmed_text)\n",
    "    \n",
    "    # İşlenmiş metni kaydetme\n",
    "    df2.loc[i, 'processed_news'] = text\n",
    "    \n",
    "    # İlerleme durumunu gösterme\n",
    "    if (i + 1) % 1000 == 0:\n",
    "        print(f\"{i + 1} metin işlendi...\")\n"
   ]
  },
  {
   "cell_type": "code",
   "execution_count": 26,
   "metadata": {},
   "outputs": [
    {
     "name": "stdout",
     "output_type": "stream",
     "text": [
      "İşlenmiş veri setinin ilk 5 satırı:\n",
      "                                                news  \\\n",
      "0  50 yıldır yükselen enerji: Aygaz TÜRK HALKINI ...   \n",
      "1  Onur Akyıl Bir insan kadar mutsuzBir insan kad...   \n",
      "2  . yolculuk GÜNEYLİ SARIŞIN: REESE WITHERSPOON ...   \n",
      "3  Doğru tercih yapan hiçbir aday açıkta kalmayac...   \n",
      "4  De Jong için sıraya girdiler   SERİE A ekipler...   \n",
      "\n",
      "                                      processed_news  label  \n",
      "0  yıl yükselen enerj aygaz türk halkin tüpgaz ta...      1  \n",
      "1  onur akyıl bir insan kadar mutsuzbir insan kad...      0  \n",
      "2  yolculuk güney sariş rees witherspoon yet yaş ...      0  \n",
      "3  doğr tercih yapan hiçbir aday açık kalmayacak ...      3  \n",
      "4  jong sıra girt seri ekip mi lan ın başarı oyun...      5  \n"
     ]
    }
   ],
   "source": [
    "# İşlenmiş veri setinin ilk 5 satırını görüntüleme\n",
    "print(\"İşlenmiş veri setinin ilk 5 satırı:\")\n",
    "print(df2[['news', 'processed_news', 'label']].head())\n"
   ]
  },
  {
   "cell_type": "code",
   "execution_count": 27,
   "metadata": {},
   "outputs": [
    {
     "name": "stdout",
     "output_type": "stream",
     "text": [
      "'news' sütunu silindi.\n"
     ]
    }
   ],
   "source": [
    "# news sütununu silme\n",
    "df2 = df2.drop('news', axis=1)\n",
    "print(\"'news' sütunu silindi.\")\n"
   ]
  },
  {
   "cell_type": "code",
   "execution_count": 28,
   "metadata": {},
   "outputs": [
    {
     "name": "stdout",
     "output_type": "stream",
     "text": [
      "İşlenmiş veri seti kaydedildi.\n"
     ]
    }
   ],
   "source": [
    "# Veri setini kaydetme\n",
    "df2.to_csv('datasets/processed_dataset2.csv', index=False)\n",
    "print(\"İşlenmiş veri seti kaydedildi.\")\n"
   ]
  },
  {
   "cell_type": "code",
   "execution_count": 29,
   "metadata": {},
   "outputs": [
    {
     "data": {
      "text/html": [
       "<div>\n",
       "<style scoped>\n",
       "    .dataframe tbody tr th:only-of-type {\n",
       "        vertical-align: middle;\n",
       "    }\n",
       "\n",
       "    .dataframe tbody tr th {\n",
       "        vertical-align: top;\n",
       "    }\n",
       "\n",
       "    .dataframe thead th {\n",
       "        text-align: right;\n",
       "    }\n",
       "</style>\n",
       "<table border=\"1\" class=\"dataframe\">\n",
       "  <thead>\n",
       "    <tr style=\"text-align: right;\">\n",
       "      <th></th>\n",
       "      <th>label</th>\n",
       "      <th>processed_news</th>\n",
       "    </tr>\n",
       "  </thead>\n",
       "  <tbody>\n",
       "    <tr>\n",
       "      <th>0</th>\n",
       "      <td>1</td>\n",
       "      <td>yıl yükselen enerj aygaz türk halkin tüpgaz ta...</td>\n",
       "    </tr>\n",
       "    <tr>\n",
       "      <th>1</th>\n",
       "      <td>0</td>\n",
       "      <td>onur akyıl bir insan kadar mutsuzbir insan kad...</td>\n",
       "    </tr>\n",
       "    <tr>\n",
       "      <th>2</th>\n",
       "      <td>0</td>\n",
       "      <td>yolculuk güney sariş rees witherspoon yet yaş ...</td>\n",
       "    </tr>\n",
       "    <tr>\n",
       "      <th>3</th>\n",
       "      <td>3</td>\n",
       "      <td>doğr tercih yapan hiçbir aday açık kalmayacak ...</td>\n",
       "    </tr>\n",
       "    <tr>\n",
       "      <th>4</th>\n",
       "      <td>5</td>\n",
       "      <td>jong sıra girt seri ekip mi lan ın başarı oyun...</td>\n",
       "    </tr>\n",
       "  </tbody>\n",
       "</table>\n",
       "</div>"
      ],
      "text/plain": [
       "   label                                     processed_news\n",
       "0      1  yıl yükselen enerj aygaz türk halkin tüpgaz ta...\n",
       "1      0  onur akyıl bir insan kadar mutsuzbir insan kad...\n",
       "2      0  yolculuk güney sariş rees witherspoon yet yaş ...\n",
       "3      3  doğr tercih yapan hiçbir aday açık kalmayacak ...\n",
       "4      5  jong sıra girt seri ekip mi lan ın başarı oyun..."
      ]
     },
     "execution_count": 29,
     "metadata": {},
     "output_type": "execute_result"
    }
   ],
   "source": [
    "df2.head()"
   ]
  },
  {
   "cell_type": "markdown",
   "metadata": {},
   "source": [
    "# Model Eğitme "
   ]
  },
  {
   "cell_type": "code",
   "execution_count": 31,
   "metadata": {},
   "outputs": [],
   "source": [
    "# Veriyi eğitim ve test setlerine ayırma\n",
    "X = df2['processed_news']\n",
    "y = df2['label']\n",
    "X_train, X_test, y_train, y_test = train_test_split(X, y, test_size=0.2, random_state=42)"
   ]
  },
  {
   "cell_type": "code",
   "execution_count": 32,
   "metadata": {},
   "outputs": [
    {
     "name": "stdout",
     "output_type": "stream",
     "text": [
      "TF-IDF vektörizasyonu yapılıyor...\n",
      "Vektörizasyon tamamlandı.\n"
     ]
    }
   ],
   "source": [
    "# TF-IDF vektörizasyonu\n",
    "print(\"TF-IDF vektörizasyonu yapılıyor...\")\n",
    "tfidf = TfidfVectorizer()\n",
    "X_train_tfidf = tfidf.fit_transform(X_train)\n",
    "X_test_tfidf = tfidf.transform(X_test)\n",
    "print(\"Vektörizasyon tamamlandı.\")"
   ]
  },
  {
   "cell_type": "code",
   "execution_count": 33,
   "metadata": {},
   "outputs": [
    {
     "name": "stdout",
     "output_type": "stream",
     "text": [
      "\n",
      "=== Naive Bayes Model Eğitimi ===\n"
     ]
    },
    {
     "data": {
      "text/html": [
       "<style>#sk-container-id-1 {color: black;}#sk-container-id-1 pre{padding: 0;}#sk-container-id-1 div.sk-toggleable {background-color: white;}#sk-container-id-1 label.sk-toggleable__label {cursor: pointer;display: block;width: 100%;margin-bottom: 0;padding: 0.3em;box-sizing: border-box;text-align: center;}#sk-container-id-1 label.sk-toggleable__label-arrow:before {content: \"▸\";float: left;margin-right: 0.25em;color: #696969;}#sk-container-id-1 label.sk-toggleable__label-arrow:hover:before {color: black;}#sk-container-id-1 div.sk-estimator:hover label.sk-toggleable__label-arrow:before {color: black;}#sk-container-id-1 div.sk-toggleable__content {max-height: 0;max-width: 0;overflow: hidden;text-align: left;background-color: #f0f8ff;}#sk-container-id-1 div.sk-toggleable__content pre {margin: 0.2em;color: black;border-radius: 0.25em;background-color: #f0f8ff;}#sk-container-id-1 input.sk-toggleable__control:checked~div.sk-toggleable__content {max-height: 200px;max-width: 100%;overflow: auto;}#sk-container-id-1 input.sk-toggleable__control:checked~label.sk-toggleable__label-arrow:before {content: \"▾\";}#sk-container-id-1 div.sk-estimator input.sk-toggleable__control:checked~label.sk-toggleable__label {background-color: #d4ebff;}#sk-container-id-1 div.sk-label input.sk-toggleable__control:checked~label.sk-toggleable__label {background-color: #d4ebff;}#sk-container-id-1 input.sk-hidden--visually {border: 0;clip: rect(1px 1px 1px 1px);clip: rect(1px, 1px, 1px, 1px);height: 1px;margin: -1px;overflow: hidden;padding: 0;position: absolute;width: 1px;}#sk-container-id-1 div.sk-estimator {font-family: monospace;background-color: #f0f8ff;border: 1px dotted black;border-radius: 0.25em;box-sizing: border-box;margin-bottom: 0.5em;}#sk-container-id-1 div.sk-estimator:hover {background-color: #d4ebff;}#sk-container-id-1 div.sk-parallel-item::after {content: \"\";width: 100%;border-bottom: 1px solid gray;flex-grow: 1;}#sk-container-id-1 div.sk-label:hover label.sk-toggleable__label {background-color: #d4ebff;}#sk-container-id-1 div.sk-serial::before {content: \"\";position: absolute;border-left: 1px solid gray;box-sizing: border-box;top: 0;bottom: 0;left: 50%;z-index: 0;}#sk-container-id-1 div.sk-serial {display: flex;flex-direction: column;align-items: center;background-color: white;padding-right: 0.2em;padding-left: 0.2em;position: relative;}#sk-container-id-1 div.sk-item {position: relative;z-index: 1;}#sk-container-id-1 div.sk-parallel {display: flex;align-items: stretch;justify-content: center;background-color: white;position: relative;}#sk-container-id-1 div.sk-item::before, #sk-container-id-1 div.sk-parallel-item::before {content: \"\";position: absolute;border-left: 1px solid gray;box-sizing: border-box;top: 0;bottom: 0;left: 50%;z-index: -1;}#sk-container-id-1 div.sk-parallel-item {display: flex;flex-direction: column;z-index: 1;position: relative;background-color: white;}#sk-container-id-1 div.sk-parallel-item:first-child::after {align-self: flex-end;width: 50%;}#sk-container-id-1 div.sk-parallel-item:last-child::after {align-self: flex-start;width: 50%;}#sk-container-id-1 div.sk-parallel-item:only-child::after {width: 0;}#sk-container-id-1 div.sk-dashed-wrapped {border: 1px dashed gray;margin: 0 0.4em 0.5em 0.4em;box-sizing: border-box;padding-bottom: 0.4em;background-color: white;}#sk-container-id-1 div.sk-label label {font-family: monospace;font-weight: bold;display: inline-block;line-height: 1.2em;}#sk-container-id-1 div.sk-label-container {text-align: center;}#sk-container-id-1 div.sk-container {/* jupyter's `normalize.less` sets `[hidden] { display: none; }` but bootstrap.min.css set `[hidden] { display: none !important; }` so we also need the `!important` here to be able to override the default hidden behavior on the sphinx rendered scikit-learn.org. See: https://github.com/scikit-learn/scikit-learn/issues/21755 */display: inline-block !important;position: relative;}#sk-container-id-1 div.sk-text-repr-fallback {display: none;}</style><div id=\"sk-container-id-1\" class=\"sk-top-container\"><div class=\"sk-text-repr-fallback\"><pre>MultinomialNB()</pre><b>In a Jupyter environment, please rerun this cell to show the HTML representation or trust the notebook. <br />On GitHub, the HTML representation is unable to render, please try loading this page with nbviewer.org.</b></div><div class=\"sk-container\" hidden><div class=\"sk-item\"><div class=\"sk-estimator sk-toggleable\"><input class=\"sk-toggleable__control sk-hidden--visually\" id=\"sk-estimator-id-1\" type=\"checkbox\" checked><label for=\"sk-estimator-id-1\" class=\"sk-toggleable__label sk-toggleable__label-arrow\">MultinomialNB</label><div class=\"sk-toggleable__content\"><pre>MultinomialNB()</pre></div></div></div></div></div>"
      ],
      "text/plain": [
       "MultinomialNB()"
      ]
     },
     "execution_count": 33,
     "metadata": {},
     "output_type": "execute_result"
    }
   ],
   "source": [
    "# Naive Bayes Model Eğitimi ve Değerlendirmesi\n",
    "print(\"\\n=== Naive Bayes Model Eğitimi ===\")\n",
    "nb_model = MultinomialNB()\n",
    "nb_model.fit(X_train_tfidf, y_train)"
   ]
  },
  {
   "cell_type": "code",
   "execution_count": 34,
   "metadata": {},
   "outputs": [
    {
     "name": "stdout",
     "output_type": "stream",
     "text": [
      "TF-IDF vektörizasyonu yapılıyor...\n",
      "Vektörizasyon tamamlandı.\n",
      "\n",
      "=== Naive Bayes Model Eğitimi ===\n",
      "Naive Bayes 5-Fold Cross Validation Skorları: [0.83211512 0.83083952 0.82935465 0.82033124 0.82798401]\n",
      "Ortalama CV Skoru: 0.8281 (+/- 0.0083)\n"
     ]
    }
   ],
   "source": [
    "# TF-IDF vektörizasyonu\n",
    "print(\"TF-IDF vektörizasyonu yapılıyor...\")\n",
    "tfidf = TfidfVectorizer(\n",
    "    max_features=5000,  # En sık kullanılan 5000 kelimeyi al\n",
    "    min_df=2,  # En az 2 dokümanda geçen kelimeleri al\n",
    "    max_df=0.95,  # Dokümanların en fazla %95'inde geçen kelimeleri al\n",
    "    ngram_range=(1, 2)  # Tek kelime ve iki kelimelik kombinasyonları al\n",
    ")\n",
    "X_train_tfidf = tfidf.fit_transform(X_train)\n",
    "X_test_tfidf = tfidf.transform(X_test)\n",
    "print(\"Vektörizasyon tamamlandı.\")\n",
    "\n",
    "# Naive Bayes Model Eğitimi ve Değerlendirmesi\n",
    "print(\"\\n=== Naive Bayes Model Eğitimi ===\")\n",
    "nb_model = MultinomialNB(\n",
    "    alpha=0.1,  # Laplace/Lidstone smoothing parametresi\n",
    "    fit_prior=True,  # Sınıf olasılıklarını veriden öğren\n",
    "    class_prior=None  # Sınıf ağırlıklarını otomatik hesapla\n",
    ")\n",
    "nb_model.fit(X_train_tfidf, y_train)\n",
    "\n",
    "# Naive Bayes Cross Validation\n",
    "nb_cv_scores = cross_val_score(nb_model, X_train_tfidf, y_train, cv=5)\n",
    "print(f\"Naive Bayes 5-Fold Cross Validation Skorları: {nb_cv_scores}\")\n",
    "print(f\"Ortalama CV Skoru: {nb_cv_scores.mean():.4f} (+/- {nb_cv_scores.std() * 2:.4f})\")"
   ]
  },
  {
   "cell_type": "code",
   "execution_count": 35,
   "metadata": {},
   "outputs": [
    {
     "name": "stdout",
     "output_type": "stream",
     "text": [
      "\n",
      "Naive Bayes Test Seti Doğruluk Oranı: 0.8315\n",
      "\n",
      "Naive Bayes Sınıflandırma Raporu:\n",
      "              precision    recall  f1-score   support\n",
      "\n",
      "           0       0.82      0.87      0.84      3539\n",
      "           1       0.81      0.85      0.83      1813\n",
      "           2       0.66      0.82      0.73       488\n",
      "           3       0.72      0.80      0.75       525\n",
      "           4       0.64      0.63      0.63       348\n",
      "           5       0.98      0.93      0.96      1162\n",
      "           6       0.92      0.83      0.87      1594\n",
      "           7       0.71      0.38      0.50       291\n",
      "           8       0.89      0.77      0.82       943\n",
      "           9       0.90      0.85      0.87       242\n",
      "\n",
      "    accuracy                           0.83     10945\n",
      "   macro avg       0.80      0.77      0.78     10945\n",
      "weighted avg       0.84      0.83      0.83     10945\n",
      "\n"
     ]
    }
   ],
   "source": [
    "# Naive Bayes Test Seti Değerlendirmesi\n",
    "nb_pred = nb_model.predict(X_test_tfidf)\n",
    "nb_score = nb_model.score(X_test_tfidf, y_test)\n",
    "print(f\"\\nNaive Bayes Test Seti Doğruluk Oranı: {nb_score:.4f}\")\n",
    "print(\"\\nNaive Bayes Sınıflandırma Raporu:\")\n",
    "print(classification_report(y_test, nb_pred))"
   ]
  },
  {
   "cell_type": "markdown",
   "metadata": {},
   "source": [
    "# Naive Bayes Model Performans Analizi\n",
    "\n",
    "Naive Bayes modelinin test seti üzerindeki performansı orta düzeydedir:\n",
    "\n",
    "- Genel doğruluk oranı %58.17 ile geliştirilmeye açıktır\n",
    "- Sınıf bazında performans:\n",
    "  - Sınıf 0: Yüksek recall (1.00) ancak düşük precision (0.45) - Model bu sınıfı aşırı tahmin ediyor\n",
    "  - Sınıf 1, 5 ve 6: Makul performans (F1: 0.68-0.76)\n",
    "  - Sınıf 8: Yüksek precision (1.00) ancak çok düşük recall (0.20)\n",
    "  - Sınıf 2, 3, 4, 7 ve 9: Hiç tahmin yapılamamış (F1: 0.00)\n",
    "\n",
    "Önemli gözlemler:\n",
    "- Model bazı sınıfları hiç tahmin edemiyor\n",
    "- Precision ve recall değerleri arasında büyük dengesizlikler var\n",
    "- Ağırlıklı ortalama metriklerin düşük olması, modelin genel performansının yetersiz olduğunu gösteriyor\n",
    "\n",
    "Bu sonuçlar, modelin iyileştirilmesi gerektiğini ve veri dengesizliği sorunlarının ele alınması gerektiğini göstermektedir.\n"
   ]
  },
  {
   "cell_type": "code",
   "execution_count": 36,
   "metadata": {},
   "outputs": [
    {
     "name": "stdout",
     "output_type": "stream",
     "text": [
      "\n",
      "=== SVM Model Eğitimi ===\n"
     ]
    },
    {
     "name": "stderr",
     "output_type": "stream",
     "text": [
      "C:\\Users\\engin\\AppData\\Local\\Packages\\PythonSoftwareFoundation.Python.3.11_qbz5n2kfra8p0\\LocalCache\\local-packages\\Python311\\site-packages\\sklearn\\svm\\_classes.py:32: FutureWarning: The default value of `dual` will change from `True` to `'auto'` in 1.5. Set the value of `dual` explicitly to suppress the warning.\n",
      "  warnings.warn(\n"
     ]
    },
    {
     "data": {
      "text/html": [
       "<style>#sk-container-id-2 {color: black;}#sk-container-id-2 pre{padding: 0;}#sk-container-id-2 div.sk-toggleable {background-color: white;}#sk-container-id-2 label.sk-toggleable__label {cursor: pointer;display: block;width: 100%;margin-bottom: 0;padding: 0.3em;box-sizing: border-box;text-align: center;}#sk-container-id-2 label.sk-toggleable__label-arrow:before {content: \"▸\";float: left;margin-right: 0.25em;color: #696969;}#sk-container-id-2 label.sk-toggleable__label-arrow:hover:before {color: black;}#sk-container-id-2 div.sk-estimator:hover label.sk-toggleable__label-arrow:before {color: black;}#sk-container-id-2 div.sk-toggleable__content {max-height: 0;max-width: 0;overflow: hidden;text-align: left;background-color: #f0f8ff;}#sk-container-id-2 div.sk-toggleable__content pre {margin: 0.2em;color: black;border-radius: 0.25em;background-color: #f0f8ff;}#sk-container-id-2 input.sk-toggleable__control:checked~div.sk-toggleable__content {max-height: 200px;max-width: 100%;overflow: auto;}#sk-container-id-2 input.sk-toggleable__control:checked~label.sk-toggleable__label-arrow:before {content: \"▾\";}#sk-container-id-2 div.sk-estimator input.sk-toggleable__control:checked~label.sk-toggleable__label {background-color: #d4ebff;}#sk-container-id-2 div.sk-label input.sk-toggleable__control:checked~label.sk-toggleable__label {background-color: #d4ebff;}#sk-container-id-2 input.sk-hidden--visually {border: 0;clip: rect(1px 1px 1px 1px);clip: rect(1px, 1px, 1px, 1px);height: 1px;margin: -1px;overflow: hidden;padding: 0;position: absolute;width: 1px;}#sk-container-id-2 div.sk-estimator {font-family: monospace;background-color: #f0f8ff;border: 1px dotted black;border-radius: 0.25em;box-sizing: border-box;margin-bottom: 0.5em;}#sk-container-id-2 div.sk-estimator:hover {background-color: #d4ebff;}#sk-container-id-2 div.sk-parallel-item::after {content: \"\";width: 100%;border-bottom: 1px solid gray;flex-grow: 1;}#sk-container-id-2 div.sk-label:hover label.sk-toggleable__label {background-color: #d4ebff;}#sk-container-id-2 div.sk-serial::before {content: \"\";position: absolute;border-left: 1px solid gray;box-sizing: border-box;top: 0;bottom: 0;left: 50%;z-index: 0;}#sk-container-id-2 div.sk-serial {display: flex;flex-direction: column;align-items: center;background-color: white;padding-right: 0.2em;padding-left: 0.2em;position: relative;}#sk-container-id-2 div.sk-item {position: relative;z-index: 1;}#sk-container-id-2 div.sk-parallel {display: flex;align-items: stretch;justify-content: center;background-color: white;position: relative;}#sk-container-id-2 div.sk-item::before, #sk-container-id-2 div.sk-parallel-item::before {content: \"\";position: absolute;border-left: 1px solid gray;box-sizing: border-box;top: 0;bottom: 0;left: 50%;z-index: -1;}#sk-container-id-2 div.sk-parallel-item {display: flex;flex-direction: column;z-index: 1;position: relative;background-color: white;}#sk-container-id-2 div.sk-parallel-item:first-child::after {align-self: flex-end;width: 50%;}#sk-container-id-2 div.sk-parallel-item:last-child::after {align-self: flex-start;width: 50%;}#sk-container-id-2 div.sk-parallel-item:only-child::after {width: 0;}#sk-container-id-2 div.sk-dashed-wrapped {border: 1px dashed gray;margin: 0 0.4em 0.5em 0.4em;box-sizing: border-box;padding-bottom: 0.4em;background-color: white;}#sk-container-id-2 div.sk-label label {font-family: monospace;font-weight: bold;display: inline-block;line-height: 1.2em;}#sk-container-id-2 div.sk-label-container {text-align: center;}#sk-container-id-2 div.sk-container {/* jupyter's `normalize.less` sets `[hidden] { display: none; }` but bootstrap.min.css set `[hidden] { display: none !important; }` so we also need the `!important` here to be able to override the default hidden behavior on the sphinx rendered scikit-learn.org. See: https://github.com/scikit-learn/scikit-learn/issues/21755 */display: inline-block !important;position: relative;}#sk-container-id-2 div.sk-text-repr-fallback {display: none;}</style><div id=\"sk-container-id-2\" class=\"sk-top-container\"><div class=\"sk-text-repr-fallback\"><pre>LinearSVC(random_state=42)</pre><b>In a Jupyter environment, please rerun this cell to show the HTML representation or trust the notebook. <br />On GitHub, the HTML representation is unable to render, please try loading this page with nbviewer.org.</b></div><div class=\"sk-container\" hidden><div class=\"sk-item\"><div class=\"sk-estimator sk-toggleable\"><input class=\"sk-toggleable__control sk-hidden--visually\" id=\"sk-estimator-id-2\" type=\"checkbox\" checked><label for=\"sk-estimator-id-2\" class=\"sk-toggleable__label sk-toggleable__label-arrow\">LinearSVC</label><div class=\"sk-toggleable__content\"><pre>LinearSVC(random_state=42)</pre></div></div></div></div></div>"
      ],
      "text/plain": [
       "LinearSVC(random_state=42)"
      ]
     },
     "execution_count": 36,
     "metadata": {},
     "output_type": "execute_result"
    }
   ],
   "source": [
    "# SVM Model Eğitimi ve Değerlendirmesi\n",
    "print(\"\\n=== SVM Model Eğitimi ===\")\n",
    "svm_model = LinearSVC(random_state=42)\n",
    "svm_model.fit(X_train_tfidf, y_train)"
   ]
  },
  {
   "cell_type": "code",
   "execution_count": 37,
   "metadata": {},
   "outputs": [
    {
     "name": "stderr",
     "output_type": "stream",
     "text": [
      "C:\\Users\\engin\\AppData\\Local\\Packages\\PythonSoftwareFoundation.Python.3.11_qbz5n2kfra8p0\\LocalCache\\local-packages\\Python311\\site-packages\\sklearn\\svm\\_classes.py:32: FutureWarning: The default value of `dual` will change from `True` to `'auto'` in 1.5. Set the value of `dual` explicitly to suppress the warning.\n",
      "  warnings.warn(\n",
      "C:\\Users\\engin\\AppData\\Local\\Packages\\PythonSoftwareFoundation.Python.3.11_qbz5n2kfra8p0\\LocalCache\\local-packages\\Python311\\site-packages\\sklearn\\svm\\_classes.py:32: FutureWarning: The default value of `dual` will change from `True` to `'auto'` in 1.5. Set the value of `dual` explicitly to suppress the warning.\n",
      "  warnings.warn(\n",
      "C:\\Users\\engin\\AppData\\Local\\Packages\\PythonSoftwareFoundation.Python.3.11_qbz5n2kfra8p0\\LocalCache\\local-packages\\Python311\\site-packages\\sklearn\\svm\\_classes.py:32: FutureWarning: The default value of `dual` will change from `True` to `'auto'` in 1.5. Set the value of `dual` explicitly to suppress the warning.\n",
      "  warnings.warn(\n",
      "C:\\Users\\engin\\AppData\\Local\\Packages\\PythonSoftwareFoundation.Python.3.11_qbz5n2kfra8p0\\LocalCache\\local-packages\\Python311\\site-packages\\sklearn\\svm\\_classes.py:32: FutureWarning: The default value of `dual` will change from `True` to `'auto'` in 1.5. Set the value of `dual` explicitly to suppress the warning.\n",
      "  warnings.warn(\n",
      "C:\\Users\\engin\\AppData\\Local\\Packages\\PythonSoftwareFoundation.Python.3.11_qbz5n2kfra8p0\\LocalCache\\local-packages\\Python311\\site-packages\\sklearn\\svm\\_classes.py:32: FutureWarning: The default value of `dual` will change from `True` to `'auto'` in 1.5. Set the value of `dual` explicitly to suppress the warning.\n",
      "  warnings.warn(\n"
     ]
    },
    {
     "name": "stdout",
     "output_type": "stream",
     "text": [
      "SVM 5-Fold Cross Validation Skorları: [0.8656921  0.86133638 0.8709309  0.86499143 0.86579098]\n",
      "Ortalama CV Skoru: 0.8657 (+/- 0.0061)\n"
     ]
    }
   ],
   "source": [
    "# SVM Cross Validation\n",
    "svm_cv_scores = cross_val_score(svm_model, X_train_tfidf, y_train, cv=5)\n",
    "print(f\"SVM 5-Fold Cross Validation Skorları: {svm_cv_scores}\")\n",
    "print(f\"Ortalama CV Skoru: {svm_cv_scores.mean():.4f} (+/- {svm_cv_scores.std() * 2:.4f})\")"
   ]
  },
  {
   "cell_type": "code",
   "execution_count": 38,
   "metadata": {},
   "outputs": [
    {
     "name": "stdout",
     "output_type": "stream",
     "text": [
      "\n",
      "SVM Test Seti Doğruluk Oranı: 0.8715\n",
      "\n",
      "SVM Sınıflandırma Raporu:\n",
      "              precision    recall  f1-score   support\n",
      "\n",
      "           0       0.85      0.91      0.88      3539\n",
      "           1       0.87      0.87      0.87      1813\n",
      "           2       0.83      0.78      0.80       488\n",
      "           3       0.83      0.81      0.82       525\n",
      "           4       0.76      0.64      0.70       348\n",
      "           5       0.96      0.96      0.96      1162\n",
      "           6       0.90      0.90      0.90      1594\n",
      "           7       0.73      0.55      0.63       291\n",
      "           8       0.88      0.85      0.87       943\n",
      "           9       0.91      0.86      0.89       242\n",
      "\n",
      "    accuracy                           0.87     10945\n",
      "   macro avg       0.85      0.81      0.83     10945\n",
      "weighted avg       0.87      0.87      0.87     10945\n",
      "\n"
     ]
    }
   ],
   "source": [
    "# SVM Test Seti Değerlendirmesi\n",
    "svm_pred = svm_model.predict(X_test_tfidf)\n",
    "svm_score = svm_model.score(X_test_tfidf, y_test)\n",
    "print(f\"\\nSVM Test Seti Doğruluk Oranı: {svm_score:.4f}\")\n",
    "print(\"\\nSVM Sınıflandırma Raporu:\")\n",
    "print(classification_report(y_test, svm_pred))"
   ]
  },
  {
   "cell_type": "markdown",
   "metadata": {},
   "source": [
    "# Model Performans Analizi\n",
    "\n",
    "SVM modelinin test seti üzerindeki performansı oldukça başarılı görünmektedir:\n",
    "\n",
    "- Genel doğruluk oranı %87.48 ile yüksek bir seviyededir\n",
    "- Sınıf bazında performans:\n",
    "  - Sınıf 5 en iyi performansı göstermiştir (F1: 0.97)\n",
    "  - Sınıf 7 en düşük performansı göstermiştir (F1: 0.59)\n",
    "  - Çoğu sınıf için F1 skoru 0.80'in üzerindedir\n",
    "  \n",
    "Özellikle:\n",
    "- Sınıf 0 ve 1 dengeli performans göstermiştir (F1: 0.88)\n",
    "- Sınıf 6, 8 ve 9'da yüksek başarı elde edilmiştir (F1: 0.87-0.90)\n",
    "- Sınıf 4 ve 7'de göreceli olarak daha düşük performans gözlenmiştir\n",
    "\n",
    "Model genel olarak dengeli bir sınıflandırma performansı sergilemektedir. Makro ve ağırlıklı ortalama metriklerin birbirine yakın olması, modelin tüm sınıflarda tutarlı çalıştığını göstermektedir.\n"
   ]
  },
  {
   "cell_type": "code",
   "execution_count": 39,
   "metadata": {},
   "outputs": [
    {
     "data": {
      "text/plain": [
       "<Figure size 1500x500 with 0 Axes>"
      ]
     },
     "execution_count": 39,
     "metadata": {},
     "output_type": "execute_result"
    },
    {
     "data": {
      "text/plain": [
       "<Figure size 1500x500 with 0 Axes>"
      ]
     },
     "metadata": {},
     "output_type": "display_data"
    }
   ],
   "source": [
    "\n",
    "# Confusion Matrix Görselleştirmesi\n",
    "plt.figure(figsize=(15, 5))"
   ]
  },
  {
   "cell_type": "code",
   "execution_count": 40,
   "metadata": {},
   "outputs": [
    {
     "data": {
      "text/plain": [
       "Text(50.722222222222214, 0.5, 'Gerçek Sınıf')"
      ]
     },
     "execution_count": 40,
     "metadata": {},
     "output_type": "execute_result"
    },
    {
     "data": {
      "image/png": "[encoded data removed]",
      "text/plain": [
       "<Figure size 640x480 with 2 Axes>"
      ]
     },
     "metadata": {},
     "output_type": "display_data"
    }
   ],
   "source": [
    "# Naive Bayes Confusion Matrix\n",
    "plt.subplot(1, 2, 1)\n",
    "nb_cm = confusion_matrix(y_test, nb_pred)\n",
    "sns.heatmap(nb_cm, annot=True, fmt='d', cmap='Blues')\n",
    "plt.title('Naive Bayes Confusion Matrix')\n",
    "plt.xlabel('Tahmin Edilen Sınıf')\n",
    "plt.ylabel('Gerçek Sınıf')"
   ]
  },
  {
   "cell_type": "code",
   "execution_count": 41,
   "metadata": {},
   "outputs": [
    {
     "data": {
      "image/png": "[encoded data removed]",
      "text/plain": [
       "<Figure size 640x480 with 2 Axes>"
      ]
     },
     "metadata": {},
     "output_type": "display_data"
    }
   ],
   "source": [
    "\n",
    "# SVM Confusion Matrix\n",
    "plt.subplot(1, 2, 2)\n",
    "svm_cm = confusion_matrix(y_test, svm_pred)\n",
    "sns.heatmap(svm_cm, annot=True, fmt='d', cmap='Blues')\n",
    "plt.title('SVM Confusion Matrix')\n",
    "plt.xlabel('Tahmin Edilen Sınıf')\n",
    "plt.ylabel('Gerçek Sınıf')\n",
    "\n",
    "plt.tight_layout()\n",
    "plt.show()"
   ]
  },
  {
   "cell_type": "code",
   "execution_count": 42,
   "metadata": {},
   "outputs": [
    {
     "data": {
      "text/plain": [
       "<Figure size 1000x600 with 0 Axes>"
      ]
     },
     "metadata": {},
     "output_type": "display_data"
    }
   ],
   "source": [
    "# Model Karşılaştırma Grafiği\n",
    "plt.figure(figsize=(10, 6))\n",
    "models = ['Naive Bayes', 'SVM']\n",
    "test_scores = [nb_score, svm_score]\n",
    "cv_scores = [nb_cv_scores.mean(), svm_cv_scores.mean()]"
   ]
  },
  {
   "cell_type": "code",
   "execution_count": 43,
   "metadata": {},
   "outputs": [],
   "source": [
    "\n",
    "x = np.arange(len(models))\n",
    "width = 0.35"
   ]
  },
  {
   "cell_type": "code",
   "execution_count": 44,
   "metadata": {},
   "outputs": [
    {
     "data": {
      "image/png": "[encoded data removed]",
      "text/plain": [
       "<Figure size 640x480 with 1 Axes>"
      ]
     },
     "metadata": {},
     "output_type": "display_data"
    }
   ],
   "source": [
    "plt.bar(x - width/2, test_scores, width, label='Test Skoru')\n",
    "plt.bar(x + width/2, cv_scores, width, label='CV Skoru')\n",
    "\n",
    "plt.xlabel('Modeller')\n",
    "plt.ylabel('Doğruluk Oranı')\n",
    "plt.title('Model Performans Karşılaştırması')\n",
    "plt.xticks(x, models)\n",
    "plt.legend()\n",
    "plt.ylim(0, 1)\n",
    "\n",
    "plt.tight_layout()\n",
    "plt.show()"
   ]
  },
  {
   "cell_type": "code",
   "execution_count": 45,
   "metadata": {},
   "outputs": [
    {
     "name": "stdout",
     "output_type": "stream",
     "text": [
      "Veri seti yükleniyor...\n"
     ]
    }
   ],
   "source": [
    "# Veri setini yükle\n",
    "print(\"Veri seti yükleniyor...\")\n",
    "df3 = pd.read_csv('datasets/processed_dataset.csv')"
   ]
  },
  {
   "cell_type": "code",
   "execution_count": 46,
   "metadata": {},
   "outputs": [
    {
     "data": {
      "text/html": [
       "<div>\n",
       "<style scoped>\n",
       "    .dataframe tbody tr th:only-of-type {\n",
       "        vertical-align: middle;\n",
       "    }\n",
       "\n",
       "    .dataframe tbody tr th {\n",
       "        vertical-align: top;\n",
       "    }\n",
       "\n",
       "    .dataframe thead th {\n",
       "        text-align: right;\n",
       "    }\n",
       "</style>\n",
       "<table border=\"1\" class=\"dataframe\">\n",
       "  <thead>\n",
       "    <tr style=\"text-align: right;\">\n",
       "      <th></th>\n",
       "      <th>label</th>\n",
       "      <th>processed_news</th>\n",
       "    </tr>\n",
       "  </thead>\n",
       "  <tbody>\n",
       "    <tr>\n",
       "      <th>0</th>\n",
       "      <td>1</td>\n",
       "      <td>yıl yükselen enerj aygaz türk halkin tüpgaz ta...</td>\n",
       "    </tr>\n",
       "    <tr>\n",
       "      <th>1</th>\n",
       "      <td>0</td>\n",
       "      <td>onur akyıl bir insan kadar mutsuzbir insan kad...</td>\n",
       "    </tr>\n",
       "    <tr>\n",
       "      <th>2</th>\n",
       "      <td>0</td>\n",
       "      <td>yolculuk güney sariş rees witherspoon yet yaş ...</td>\n",
       "    </tr>\n",
       "    <tr>\n",
       "      <th>3</th>\n",
       "      <td>3</td>\n",
       "      <td>doğr tercih yapan hiçbir aday açık kalmayacak ...</td>\n",
       "    </tr>\n",
       "    <tr>\n",
       "      <th>4</th>\n",
       "      <td>5</td>\n",
       "      <td>jong sıra girt seri a ekip mi i lan ın başarı ...</td>\n",
       "    </tr>\n",
       "  </tbody>\n",
       "</table>\n",
       "</div>"
      ],
      "text/plain": [
       "   label                                     processed_news\n",
       "0      1  yıl yükselen enerj aygaz türk halkin tüpgaz ta...\n",
       "1      0  onur akyıl bir insan kadar mutsuzbir insan kad...\n",
       "2      0  yolculuk güney sariş rees witherspoon yet yaş ...\n",
       "3      3  doğr tercih yapan hiçbir aday açık kalmayacak ...\n",
       "4      5  jong sıra girt seri a ekip mi i lan ın başarı ..."
      ]
     },
     "execution_count": 46,
     "metadata": {},
     "output_type": "execute_result"
    }
   ],
   "source": [
    "df3.head()"
   ]
  },
  {
   "cell_type": "code",
   "execution_count": 49,
   "metadata": {},
   "outputs": [
    {
     "name": "stderr",
     "output_type": "stream",
     "text": [
      "C:\\Users\\engin\\AppData\\Local\\Packages\\PythonSoftwareFoundation.Python.3.11_qbz5n2kfra8p0\\LocalCache\\local-packages\\Python311\\site-packages\\sklearn\\svm\\_classes.py:32: FutureWarning: The default value of `dual` will change from `True` to `'auto'` in 1.5. Set the value of `dual` explicitly to suppress the warning.\n",
      "  warnings.warn(\n"
     ]
    },
    {
     "name": "stdout",
     "output_type": "stream",
     "text": [
      "Naive Bayes Tahminleri:\n",
      "Metin: Fenerbahçe bugün önemli bir galibiyet aldı\n",
      "Tahmin edilen kategori: Spor\n",
      "\n",
      "Metin: Dolar kuru rekor seviyeye ulaştı\n",
      "Tahmin edilen kategori: Ekonomi\n",
      "\n",
      "Metin: Yeni çıkan filmin galası yapıldı\n",
      "Tahmin edilen kategori: Edebiyat\n",
      "\n",
      "Metin: Üniversite sınavı tarihleri açıklandı\n",
      "Tahmin edilen kategori: Edebiyat\n",
      "\n",
      "\n",
      "SVM Tahminleri:\n",
      "Metin: Fenerbahçe bugün önemli bir galibiyet aldı\n",
      "Tahmin edilen kategori: Spor\n",
      "\n",
      "Metin: Dolar kuru rekor seviyeye ulaştı\n",
      "Tahmin edilen kategori: Ekonomi\n",
      "\n",
      "Metin: Yeni çıkan filmin galası yapıldı\n",
      "Tahmin edilen kategori: Edebiyat\n",
      "\n",
      "Metin: Üniversite sınavı tarihleri açıklandı\n",
      "Tahmin edilen kategori: Eğitim\n",
      "\n"
     ]
    }
   ],
   "source": [
    "# Örnek metinler üzerinde tahmin\n",
    "ornek_metinler = [\n",
    "    \"Fenerbahçe bugün önemli bir galibiyet aldı\",  # Spor haberi\n",
    "    \"Dolar kuru rekor seviyeye ulaştı\",  # Ekonomi haberi\n",
    "    \"Yeni çıkan filmin galası yapıldı\",  # Magazin haberi\n",
    "    \"Üniversite sınavı tarihleri açıklandı\"  # Eğitim haberi\n",
    "]\n",
    "\n",
    "# Gerekli kütüphaneleri import etme\n",
    "import re\n",
    "from nltk.tokenize import word_tokenize\n",
    "from nltk.corpus import stopwords\n",
    "from sklearn.feature_extraction.text import TfidfVectorizer\n",
    "from sklearn.naive_bayes import MultinomialNB\n",
    "from sklearn.svm import LinearSVC\n",
    "\n",
    "# Stop words'leri yükleme\n",
    "stop_words = set(stopwords.words('turkish'))\n",
    "\n",
    "# TF-IDF Vectorizer'ı yeniden oluşturma ve eğitme\n",
    "tfidf_vectorizer = TfidfVectorizer()\n",
    "X_train = tfidf_vectorizer.fit_transform(df3['processed_news'])\n",
    "y_train = df3['label']\n",
    "\n",
    "# Modelleri yeniden eğitme\n",
    "nb_model = MultinomialNB()\n",
    "nb_model.fit(X_train, y_train)\n",
    "\n",
    "svm_model = LinearSVC(random_state=42)\n",
    "svm_model.fit(X_train, y_train)\n",
    "\n",
    "# Kategori etiketleri\n",
    "kategoriler = {\n",
    "    0: \"Edebiyat\",\n",
    "    1: \"Ekonomi\", \n",
    "    2: \"Siyaset\",\n",
    "    3: \"Eğitim\",\n",
    "    4: \"Güvenlik\",\n",
    "    5: \"Spor\",\n",
    "    6: \"Teknoloji\",\n",
    "    7: \"Yaşam Tarzı\",\n",
    "    8: \"Outdoor/Spor Ekipmanları\",\n",
    "    9: \"Diplomasi\"\n",
    "}\n",
    "\n",
    "# Örnek metinleri aynı preprocessing işlemlerinden geçirme\n",
    "processed_ornekler = []\n",
    "for metin in ornek_metinler:\n",
    "    try:\n",
    "        # Küçük harfe çevirme\n",
    "        metin = metin.lower()\n",
    "        # Noktalama işaretlerini kaldırma\n",
    "        metin = re.sub(r'[^\\w\\s]', '', metin)\n",
    "        # Stopwords'leri kaldırma\n",
    "        word_tokens = word_tokenize(metin)\n",
    "        filtered_text = [word for word in word_tokens if word not in stop_words]\n",
    "        # Stemming yerine kelimeleri olduğu gibi bırakma\n",
    "        processed_ornekler.append(' '.join(filtered_text))\n",
    "    except Exception as e:\n",
    "        print(f\"Metin işleme hatası: {str(e)}\")\n",
    "\n",
    "try:\n",
    "    # TF-IDF dönüşümü\n",
    "    ornek_tfidf = tfidf_vectorizer.transform(processed_ornekler)\n",
    "\n",
    "    # Her iki model ile tahmin yapma\n",
    "    print(\"Naive Bayes Tahminleri:\")\n",
    "    nb_tahminler = nb_model.predict(ornek_tfidf)\n",
    "    for metin, tahmin in zip(ornek_metinler, nb_tahminler):\n",
    "        print(f\"Metin: {metin}\")\n",
    "        print(f\"Tahmin edilen kategori: {kategoriler[tahmin]}\\n\")\n",
    "\n",
    "    print(\"\\nSVM Tahminleri:\")\n",
    "    svm_tahminler = svm_model.predict(ornek_tfidf)\n",
    "    for metin, tahmin in zip(ornek_metinler, svm_tahminler):\n",
    "        print(f\"Metin: {metin}\")\n",
    "        print(f\"Tahmin edilen kategori: {kategoriler[tahmin]}\\n\")\n",
    "\n",
    "except Exception as e:\n",
    "    print(f\"Tahmin yapma hatası: {str(e)}\")\n"
   ]
  },
  {
   "cell_type": "code",
   "execution_count": 48,
   "metadata": {},
   "outputs": [
    {
     "name": "stdout",
     "output_type": "stream",
     "text": [
      "Sonuçlar kategori_ornekleri.txt dosyasına kaydedildi.\n"
     ]
    }
   ],
   "source": [
    "# Her kategoriden bir örnek getirme\n",
    "ornek_kategoriler = df3.groupby('label').first().reset_index()\n",
    "\n",
    "# Sonuçları bir txt dosyasına yazma\n",
    "with open('kategori_ornekleri.txt', 'w', encoding='utf-8') as f:\n",
    "    f.write(\"Her kategoriden bir örnek:\\n\\n\")\n",
    "    for _, row in ornek_kategoriler.iterrows():\n",
    "        f.write(f\"Kategori {row['label']}:\\n\")\n",
    "        f.write(f\"{row['processed_news']}\\n\\n\")\n",
    "    \n",
    "print(\"Sonuçlar kategori_ornekleri.txt dosyasına kaydedildi.\")\n"
   ]
  },
  {
   "cell_type": "code",
   "execution_count": 51,
   "metadata": {},
   "outputs": [
    {
     "name": "stdout",
     "output_type": "stream",
     "text": [
      "Modeller başarıyla kaydedildi.\n",
      "TF-IDF vectorizer ve kategoriler başarıyla kaydedildi.\n"
     ]
    }
   ],
   "source": [
    "\n",
    "try:\n",
    "    # Models klasörünü oluştur\n",
    "    if not os.path.exists('models'):\n",
    "        os.makedirs('models')\n",
    "\n",
    "    # Naive Bayes ve SVM modellerini kaydet\n",
    "    with open('models/naive_bayes_model.pkl', 'wb') as f:\n",
    "        pickle.dump(nb_model, f)\n",
    "    with open('models/svm_model.pkl', 'wb') as f:\n",
    "        pickle.dump(svm_model, f)\n",
    "\n",
    "    # TF-IDF vectorizer'ı kaydet\n",
    "    with open('models/tfidf_vectorizer.pkl', 'wb') as f:\n",
    "        pickle.dump(tfidf_vectorizer, f)\n",
    "\n",
    "    # Kategorileri kaydet\n",
    "    with open('models/kategoriler.pkl', 'wb') as f:\n",
    "        pickle.dump(kategoriler, f)\n",
    "\n",
    "    print('Modeller models klasörüne başarıyla kaydedildi.')\n",
    "    print('TF-IDF vectorizer ve kategoriler models klasörüne başarıyla kaydedildi.')\n",
    "\n",
    "except Exception as e:\n",
    "    print(f\"Model kaydetme hatası: {str(e)}\")\n"
   ]
  }
 ],
 "metadata": {
  "kernelspec": {
   "display_name": "Python 3",
   "language": "python",
   "name": "python3"
  },
  "language_info": {
   "codemirror_mode": {
    "name": "ipython",
    "version": 3
   },
   "file_extension": ".py",
   "mimetype": "text/x-python",
   "name": "python",
   "nbconvert_exporter": "python",
   "pygments_lexer": "ipython3",
   "version": "3.11.9"
  }
 },
 "nbformat": 4,
 "nbformat_minor": 2
}
